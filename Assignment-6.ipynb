{
 "cells": [
  {
   "cell_type": "markdown",
   "id": "4ff15092",
   "metadata": {},
   "source": [
    "# Assignment-6\n",
    "# question-1"
   ]
  },
  {
   "cell_type": "markdown",
   "id": "853614ad",
   "metadata": {},
   "source": [
    "What are keywords in python? Using the keyword library, print all the python keywords.\n",
    "\n",
    "Keywords in Python are reserved words that have predefined meanings and cannot be used as identifiers (such as variable names or function names) in your program. These keywords define the syntax and structure of the language."
   ]
  },
  {
   "cell_type": "code",
   "execution_count": 2,
   "id": "4a543fcc",
   "metadata": {},
   "outputs": [
    {
     "data": {
      "text/plain": [
       "['False',\n",
       " 'None',\n",
       " 'True',\n",
       " 'and',\n",
       " 'as',\n",
       " 'assert',\n",
       " 'async',\n",
       " 'await',\n",
       " 'break',\n",
       " 'class',\n",
       " 'continue',\n",
       " 'def',\n",
       " 'del',\n",
       " 'elif',\n",
       " 'else',\n",
       " 'except',\n",
       " 'finally',\n",
       " 'for',\n",
       " 'from',\n",
       " 'global',\n",
       " 'if',\n",
       " 'import',\n",
       " 'in',\n",
       " 'is',\n",
       " 'lambda',\n",
       " 'nonlocal',\n",
       " 'not',\n",
       " 'or',\n",
       " 'pass',\n",
       " 'raise',\n",
       " 'return',\n",
       " 'try',\n",
       " 'while',\n",
       " 'with',\n",
       " 'yield']"
      ]
     },
     "execution_count": 2,
     "metadata": {},
     "output_type": "execute_result"
    }
   ],
   "source": [
    "import keyword\n",
    "\n",
    "all_keywords = keyword.kwlist\n",
    "all_keywords"
   ]
  },
  {
   "cell_type": "markdown",
   "id": "f05aff1d",
   "metadata": {},
   "source": [
    "# question-2"
   ]
  },
  {
   "cell_type": "markdown",
   "id": "c7040632",
   "metadata": {},
   "source": [
    "What are the rules to create variables in python?\n",
    "\n",
    "* Start with a letter or underscore.\n",
    "* Use letters, numbers, or underscores in the variable name.\n",
    "* Case-sensitive (e.g., myVariable and myvariable are different).\n",
    "* Avoid using Python keywords.\n",
    "* Choose descriptive and concise names.\n",
    "* Avoid special characters.\n",
    "* Prefer lowercase letters.\n",
    "\n",
    "example:\n",
    "\n",
    "name\n",
    "\n",
    "age\n",
    "\n",
    "_underscore_variable\n",
    "\n",
    "myVariable\n",
    "\n",
    "x\n",
    "\n",
    "\n",
    "\n"
   ]
  },
  {
   "cell_type": "markdown",
   "id": "803aa738",
   "metadata": {},
   "source": [
    "# question-3"
   ]
  },
  {
   "cell_type": "markdown",
   "id": "7e660e76",
   "metadata": {},
   "source": [
    "What are the standards and conventions followed for the nomenclature of variables in python to improve code readability and maintainability?\n",
    "\n",
    "\n",
    "* Use descriptive names.\n",
    "* Prefer lowercase letters (snake_case).\n",
    "* Avoid single-letter names, except for common conventions like i.\n",
    "* Be consistent in naming throughout the codebase.\n",
    "* Avoid using reserved words (Python keywords) as variable names.\n",
    "* Use plural names for collections.\n",
    "* Meaningful abbreviations are acceptable.\n",
    "* Use CamelCase for class names and uppercase with underscores for constants."
   ]
  },
  {
   "cell_type": "markdown",
   "id": "780b4ecb",
   "metadata": {},
   "source": [
    "# question-4"
   ]
  },
  {
   "cell_type": "markdown",
   "id": "113e95d9",
   "metadata": {},
   "source": [
    "What will happen if a keyword is used as a variable name?\n",
    "\n",
    "If a keyword is used as a variable name in Python, it will result in a 'syntax error'. Python keywords are reserved and have predefined meanings in the language. They are specifically used to define the syntax and structure of the code."
   ]
  },
  {
   "cell_type": "code",
   "execution_count": 3,
   "id": "92f59aee",
   "metadata": {},
   "outputs": [
    {
     "ename": "SyntaxError",
     "evalue": "cannot assign to True (2385229954.py, line 1)",
     "output_type": "error",
     "traceback": [
      "\u001b[1;36m  Cell \u001b[1;32mIn[3], line 1\u001b[1;36m\u001b[0m\n\u001b[1;33m    True = 'hello'\u001b[0m\n\u001b[1;37m    ^\u001b[0m\n\u001b[1;31mSyntaxError\u001b[0m\u001b[1;31m:\u001b[0m cannot assign to True\n"
     ]
    }
   ],
   "source": [
    "True = 'hello'\n",
    "True"
   ]
  },
  {
   "cell_type": "markdown",
   "id": "80a40cf4",
   "metadata": {},
   "source": [
    "# question-5"
   ]
  },
  {
   "cell_type": "markdown",
   "id": "956d3e2b",
   "metadata": {},
   "source": [
    "For what purpose def keyword is used?\n",
    "\n",
    "The def keyword in Python is used to define a function. Functions are blocks of reusable code that perform a specific task. They allow you to organize your code, improve its readability, and enable code reuse.\n",
    "\n",
    "When you use the def keyword, you create a function with a specified name, a set of parameters (optional), and a block of code that defines what the function does."
   ]
  },
  {
   "cell_type": "code",
   "execution_count": 9,
   "id": "33b6a719",
   "metadata": {},
   "outputs": [
    {
     "name": "stdout",
     "output_type": "stream",
     "text": [
      "hello,dhoni \n"
     ]
    }
   ],
   "source": [
    "def fun(name):\n",
    "    print('hello,' + name + ' ' )\n",
    "\n",
    "fun('dhoni') "
   ]
  },
  {
   "cell_type": "markdown",
   "id": "9ed66f51",
   "metadata": {},
   "source": [
    "# question-6"
   ]
  },
  {
   "cell_type": "markdown",
   "id": "5ee2dc58",
   "metadata": {},
   "source": [
    "What is the operation of this special character ‘\\’?\n",
    "\n",
    "The special character \\ in Python is the escape character. It is used to indicate that the following character(s) should be treated in a special way, such as escaping special characters, inserting newlines or tabs, or indicating a carriage return."
   ]
  },
  {
   "cell_type": "code",
   "execution_count": 16,
   "id": "901705c4",
   "metadata": {},
   "outputs": [
    {
     "name": "stdout",
     "output_type": "stream",
     "text": [
      "I'm learning Python.\n",
      "line1\n",
      "line2\n",
      "First\tSecond\n"
     ]
    }
   ],
   "source": [
    "print('I\\'m learning Python.')  \n",
    "print('line1\\nline2')\n",
    "print(\"First\\tSecond\") "
   ]
  },
  {
   "cell_type": "markdown",
   "id": "15d3c755",
   "metadata": {},
   "source": [
    "# question-7\n",
    "Give an example of the following conditions:\n",
    "(i) Homogeneous list\n",
    "(ii) Heterogeneous set\n",
    "(iii) Homogeneous tuple"
   ]
  },
  {
   "cell_type": "code",
   "execution_count": 17,
   "id": "75a9106f",
   "metadata": {},
   "outputs": [
    {
     "name": "stdout",
     "output_type": "stream",
     "text": [
      "[1, 2, 3, 4, 5]\n",
      "{'apple', 1, 3.14}\n",
      "(1, 2, 3, 4, 5)\n"
     ]
    }
   ],
   "source": [
    "# homogenous contain same data types , hetrogenous contain differnet data types.\n",
    "\n",
    "# homogenous list\n",
    "\n",
    "numbers = [1, 2, 3, 4, 5]\n",
    "print(numbers)\n",
    "\n",
    "# hetrogenous list\n",
    "\n",
    "my_set = {1, 'apple', True, 3.14}\n",
    "print(my_set)\n",
    "\n",
    "# homogenous tuple\n",
    "\n",
    "numbers = (1, 2, 3, 4, 5)\n",
    "print(numbers)\n",
    "\n"
   ]
  },
  {
   "cell_type": "markdown",
   "id": "4e5a4442",
   "metadata": {},
   "source": [
    "# question-8\n",
    "\n",
    "Explain the mutable and immutable data types with proper explanation & examples.\n",
    "\n",
    "* Mutable data types in Python can be modified after they are created. Examples include lists, sets, and dictionaries.\n",
    "\n",
    "* Immutable data types in Python cannot be changed once they are created. Examples include strings, tuples, and numbers (integers, floats, etc.),If you want to modify an immutable object, you need to create a new object with the desired changes. "
   ]
  },
  {
   "cell_type": "code",
   "execution_count": 23,
   "id": "29911ee2",
   "metadata": {},
   "outputs": [
    {
     "name": "stdout",
     "output_type": "stream",
     "text": [
      "[3, 5, 8, 7]\n",
      "[3, 5, 8, 7]\n",
      "[5, 8, 7]\n",
      "Hello World\n"
     ]
    }
   ],
   "source": [
    "# example for mutable\n",
    "\n",
    "my_list = [3, 5, 8]\n",
    "my_list.append(7)\n",
    "print(my_list)\n",
    "my_list[1] = 5 \n",
    "print(my_list)\n",
    "my_list.remove(3) \n",
    "print(my_list)\n",
    "\n",
    "# example for immutable\n",
    "\n",
    "my_string = 'Hello'\n",
    "new_string = my_string + ' World'\n",
    "print(new_string)"
   ]
  },
  {
   "cell_type": "markdown",
   "id": "bf72f760",
   "metadata": {},
   "source": [
    "# question-9"
   ]
  },
  {
   "cell_type": "code",
   "execution_count": 28,
   "id": "5bf567b2",
   "metadata": {},
   "outputs": [
    {
     "name": "stdout",
     "output_type": "stream",
     "text": [
      "*\n",
      "**\n",
      "***\n",
      "****\n",
      "*****\n"
     ]
    }
   ],
   "source": [
    "rows = 5  # Number of rows in the structure\n",
    "\n",
    "for i in range(rows):\n",
    "    for j in range(i + 1):\n",
    "        print(\"*\", end=\"\")\n",
    "    print()"
   ]
  },
  {
   "cell_type": "markdown",
   "id": "9d667bd6",
   "metadata": {},
   "source": [
    "# question-10"
   ]
  },
  {
   "cell_type": "code",
   "execution_count": 29,
   "id": "10a9593a",
   "metadata": {},
   "outputs": [
    {
     "name": "stdout",
     "output_type": "stream",
     "text": [
      "|||||\n",
      "||||\n",
      "|||\n",
      "||\n",
      "|\n"
     ]
    }
   ],
   "source": [
    "rows = 5  \n",
    "count = rows\n",
    "\n",
    "while count > 0:\n",
    "    print(\"|\" * count)\n",
    "    count -= 1"
   ]
  },
  {
   "cell_type": "code",
   "execution_count": null,
   "id": "101bff16",
   "metadata": {},
   "outputs": [],
   "source": []
  }
 ],
 "metadata": {
  "kernelspec": {
   "display_name": "Python 3 (ipykernel)",
   "language": "python",
   "name": "python3"
  },
  "language_info": {
   "codemirror_mode": {
    "name": "ipython",
    "version": 3
   },
   "file_extension": ".py",
   "mimetype": "text/x-python",
   "name": "python",
   "nbconvert_exporter": "python",
   "pygments_lexer": "ipython3",
   "version": "3.10.9"
  }
 },
 "nbformat": 4,
 "nbformat_minor": 5
}
