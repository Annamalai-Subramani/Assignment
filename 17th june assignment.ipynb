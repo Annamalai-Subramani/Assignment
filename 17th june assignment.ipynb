{
 "cells": [
  {
   "cell_type": "markdown",
   "id": "515e2704",
   "metadata": {},
   "source": [
    "# 17th June Assignment\n",
    "# question-1\n",
    "What is the role of try and exception block?\n",
    "\n",
    "* The try-except block is used to handle exceptions and errors in a program, allowing for graceful error handling and preventing abrupt program termination.\n",
    "\n",
    "* The main purpose of using try and except is to prevent the program from terminating abruptly when an error occurs and instead provide a way to gracefully handle the error."
   ]
  },
  {
   "cell_type": "markdown",
   "id": "2278ee4a",
   "metadata": {},
   "source": [
    "# question-2\n",
    "\n",
    "What is the syntax for a basic try-except block?\n",
    "\n",
    "The syntax for a basic try-except block is:\n",
    "\n",
    "\n"
   ]
  },
  {
   "cell_type": "code",
   "execution_count": 1,
   "id": "8720da57",
   "metadata": {},
   "outputs": [],
   "source": [
    "# try:\n",
    "    # Code that might raise an exception\n",
    "    \n",
    "# except ExceptionType:\n",
    "    # Exception handling code\n",
    "    "
   ]
  },
  {
   "cell_type": "markdown",
   "id": "5c1a7640",
   "metadata": {},
   "source": [
    "# question-3\n",
    "What happens if an exception occurs inside a try block and there is no matching\n",
    "except block?\n",
    "\n",
    "* If an exception occurs inside a try block and there is no matching except block, the program will terminate abruptly and display an unhandled exception traceback."
   ]
  },
  {
   "cell_type": "code",
   "execution_count": 2,
   "id": "f5aa70d4",
   "metadata": {},
   "outputs": [
    {
     "ename": "ZeroDivisionError",
     "evalue": "division by zero",
     "output_type": "error",
     "traceback": [
      "\u001b[1;31m---------------------------------------------------------------------------\u001b[0m",
      "\u001b[1;31mZeroDivisionError\u001b[0m                         Traceback (most recent call last)",
      "Cell \u001b[1;32mIn[2], line 2\u001b[0m\n\u001b[0;32m      1\u001b[0m \u001b[38;5;28;01mtry\u001b[39;00m:\n\u001b[1;32m----> 2\u001b[0m     result \u001b[38;5;241m=\u001b[39m \u001b[38;5;241;43m10\u001b[39;49m\u001b[43m \u001b[49m\u001b[38;5;241;43m/\u001b[39;49m\u001b[43m \u001b[49m\u001b[38;5;241;43m0\u001b[39;49m  \u001b[38;5;66;03m# This will raise a ZeroDivisionError\u001b[39;00m\n\u001b[0;32m      3\u001b[0m \u001b[38;5;28;01mexcept\u001b[39;00m \u001b[38;5;167;01mValueError\u001b[39;00m:\n\u001b[0;32m      4\u001b[0m     \u001b[38;5;66;03m# This except block does not match the raised exception type\u001b[39;00m\n\u001b[0;32m      5\u001b[0m     \u001b[38;5;28mprint\u001b[39m(\u001b[38;5;124m\"\u001b[39m\u001b[38;5;124mCaught a ValueError!\u001b[39m\u001b[38;5;124m\"\u001b[39m)\n",
      "\u001b[1;31mZeroDivisionError\u001b[0m: division by zero"
     ]
    }
   ],
   "source": [
    "try:\n",
    "    result = 10 / 0  # This will raise a ZeroDivisionError\n",
    "except ValueError:\n",
    "    # This except block does not match the raised exception type\n",
    "    print(\"Caught a ValueError!\")"
   ]
  },
  {
   "cell_type": "markdown",
   "id": "d4eb88af",
   "metadata": {},
   "source": [
    "# question-4\n",
    "What is the difference between using a bare except block and specifying a specific\n",
    "exception type?"
   ]
  },
  {
   "cell_type": "markdown",
   "id": "cfd6498d",
   "metadata": {},
   "source": [
    "* The difference between a bare except block and specifying a specific exception type is that a bare except block catches all types of exceptions, while specifying a specific exception type allows you to handle only that particular type of exception."
   ]
  },
  {
   "cell_type": "code",
   "execution_count": 3,
   "id": "0abe39e7",
   "metadata": {},
   "outputs": [
    {
     "name": "stdout",
     "output_type": "stream",
     "text": [
      "An exception occurred!\n"
     ]
    }
   ],
   "source": [
    "try:\n",
    "    # Code that might raise an exception\n",
    "    result = 10 / 0  # This will raise a ZeroDivisionError\n",
    "except:\n",
    "    # Exception handling code for any type of exception\n",
    "    print(\"An exception occurred!\")"
   ]
  },
  {
   "cell_type": "markdown",
   "id": "c2029b64",
   "metadata": {},
   "source": [
    "# question-5\n",
    "Can you have nested try-except blocks in Python? If yes, then give an example."
   ]
  },
  {
   "cell_type": "code",
   "execution_count": 4,
   "id": "818367d5",
   "metadata": {},
   "outputs": [
    {
     "name": "stdout",
     "output_type": "stream",
     "text": [
      "Enter a number: abc\n",
      "Invalid input! Please enter a valid number.\n"
     ]
    }
   ],
   "source": [
    "try:\n",
    "    x = int(input(\"Enter a number: \"))\n",
    "    try:\n",
    "        result = 10 / x\n",
    "        print(\"Result:\", result)\n",
    "    except ZeroDivisionError:\n",
    "        print(\"Error: Division by zero is not allowed.\")\n",
    "except ValueError:\n",
    "    print(\"Invalid input! Please enter a valid number.\")\n",
    "    "
   ]
  },
  {
   "cell_type": "markdown",
   "id": "7a3fecad",
   "metadata": {},
   "source": [
    "# question-6\n",
    "\n",
    "Can we use multiple exception blocks, if yes then give an example."
   ]
  },
  {
   "cell_type": "code",
   "execution_count": 5,
   "id": "243d7a58",
   "metadata": {},
   "outputs": [
    {
     "name": "stdout",
     "output_type": "stream",
     "text": [
      "Enter a number: 5\n",
      "Result: 2.0\n",
      "No exceptions occurred. Calculation successful.\n",
      "Execution complete. Exiting program.\n"
     ]
    }
   ],
   "source": [
    "try:\n",
    "    # Code that might raise exceptions\n",
    "    x = int(input(\"Enter a number: \"))\n",
    "    result = 10 / x\n",
    "    print(\"Result:\", result)\n",
    "except ValueError:\n",
    "    print(\"Invalid input! Please enter a valid number.\")\n",
    "except ZeroDivisionError:\n",
    "    print(\"Error: Division by zero is not allowed.\")\n",
    "except Exception as e:\n",
    "    print(\"An error occurred:\", str(e))\n",
    "else:\n",
    "    print(\"No exceptions occurred. Calculation successful.\")\n",
    "finally:\n",
    "    print(\"Execution complete. Exiting program.\")"
   ]
  },
  {
   "cell_type": "markdown",
   "id": "2a8910f7",
   "metadata": {},
   "source": [
    "# question-6\n",
    "\n",
    "Write the reason due to which following errors are raised:\n",
    "a. EOFError\n",
    "b. FloatingPointError\n",
    "c. IndexError\n",
    "d. MemoryError\n",
    "e. OverflowError\n",
    "f. TabError\n",
    "g. ValueError\n"
   ]
  },
  {
   "cell_type": "markdown",
   "id": "4bcf3454",
   "metadata": {},
   "source": [
    "* a. EOFError: Raised when trying to read beyond the end of a file or input stream.\n",
    "* b. FloatingPointError: Raised when a floating-point arithmetic operation fails, such as division by zero or an invalid mathematical operation.\n",
    "* c. IndexError: Raised when trying to access an index that is out of range in a sequence (e.g., list, string).\n",
    "* d. MemoryError: Raised when the program cannot allocate enough memory to perform an operation.\n",
    "* e. OverflowError: Raised when the result of an arithmetic operation is too large to be represented.\n",
    "* f. TabError: Raised when there is an issue with the indentation of code, such as mixing tabs and spaces or inconsistent indentation levels.\n",
    "* g. ValueError: Raised when a function receives an argument of the correct type but an inappropriate value."
   ]
  },
  {
   "cell_type": "markdown",
   "id": "58678401",
   "metadata": {},
   "source": [
    "# question-7\n",
    "\n",
    "Write code for the following given scenario and add try-exception block to it.\n",
    "a. Program to divide two numbers\n",
    "b. Program to convert a string to an integer\n",
    "c. Program to access an element in a list\n",
    "d. Program to handle a specific exception\n",
    "e. Program to handle any exception"
   ]
  },
  {
   "cell_type": "code",
   "execution_count": 6,
   "id": "9166a029",
   "metadata": {},
   "outputs": [
    {
     "name": "stdout",
     "output_type": "stream",
     "text": [
      "Enter the dividend: 50\n",
      "Enter the divisor: 0\n",
      "Error: Division by zero is not allowed.\n"
     ]
    }
   ],
   "source": [
    "# Program to divide two numbers \n",
    "try:\n",
    "    dividend = int(input(\"Enter the dividend: \"))\n",
    "    divisor = int(input(\"Enter the divisor: \"))\n",
    "    result = dividend / divisor\n",
    "    print(\"Result:\", result)\n",
    "except ZeroDivisionError:\n",
    "    print(\"Error: Division by zero is not allowed.\")"
   ]
  },
  {
   "cell_type": "code",
   "execution_count": 7,
   "id": "d8150db1",
   "metadata": {},
   "outputs": [
    {
     "name": "stdout",
     "output_type": "stream",
     "text": [
      "Enter a number: 123\n",
      "Converted integer: 123\n"
     ]
    }
   ],
   "source": [
    "# Program to convert a string to an integer\n",
    "\n",
    "try:\n",
    "    string_num = input(\"Enter a number: \")\n",
    "    num = int(string_num)\n",
    "    print(\"Converted integer:\", num)\n",
    "except ValueError:\n",
    "    print(\"Error: Invalid input. Could not convert to an integer.\")\n"
   ]
  },
  {
   "cell_type": "code",
   "execution_count": 8,
   "id": "f62edc36",
   "metadata": {},
   "outputs": [
    {
     "name": "stdout",
     "output_type": "stream",
     "text": [
      "enter the number = 5\n",
      "Error: Index out of range\n"
     ]
    }
   ],
   "source": [
    "# Program to access an element in a list\n",
    "\n",
    "try:\n",
    "    my_list = [ 1, 2, 5, 7, 8]\n",
    "    index = int(input('enter the number = '))\n",
    "    element = my_list[index]\n",
    "    print('element at index', index, ':', element)\n",
    "    \n",
    "except IndexError: \n",
    "    print(\"Error: Index out of range\")"
   ]
  },
  {
   "cell_type": "code",
   "execution_count": 15,
   "id": "54b2c299",
   "metadata": {},
   "outputs": [
    {
     "name": "stdout",
     "output_type": "stream",
     "text": [
      "Enter the dividend: 15\n",
      "Enter the divisor: 0\n",
      "Error: ZeroDivisionError occurred - Cannot divide by zero\n"
     ]
    }
   ],
   "source": [
    "# Program to handle a specific exception\n",
    "try:\n",
    "    dividend = int(input(\"Enter the dividend: \"))\n",
    "    divisor = int(input(\"Enter the divisor: \"))\n",
    "\n",
    "    if divisor == 0:\n",
    "        raise ZeroDivisionError(\"Cannot divide by zero\")\n",
    "\n",
    "    result = dividend / divisor\n",
    "    print(\"Result:\", result)\n",
    "\n",
    "except ZeroDivisionError as e:\n",
    "    print(\"Error: ZeroDivisionError occurred -\", str(e))"
   ]
  },
  {
   "cell_type": "code",
   "execution_count": 14,
   "id": "7a2866ae",
   "metadata": {},
   "outputs": [
    {
     "name": "stdout",
     "output_type": "stream",
     "text": [
      "Enter a number: 10\n",
      "Enter another number: 0\n",
      "An error occurred: division by zero\n"
     ]
    }
   ],
   "source": [
    "# Program to handle any exception\n",
    "try:\n",
    "    num1 = int(input(\"Enter a number: \"))\n",
    "    num2 = int(input(\"Enter another number: \"))\n",
    "    result = num1 / num2\n",
    "    print(\"Result:\", result)\n",
    "except Exception as e:\n",
    "    print(\"An error occurred:\", str(e))"
   ]
  },
  {
   "cell_type": "code",
   "execution_count": null,
   "id": "e14d21d0",
   "metadata": {},
   "outputs": [],
   "source": []
  }
 ],
 "metadata": {
  "kernelspec": {
   "display_name": "Python 3 (ipykernel)",
   "language": "python",
   "name": "python3"
  },
  "language_info": {
   "codemirror_mode": {
    "name": "ipython",
    "version": 3
   },
   "file_extension": ".py",
   "mimetype": "text/x-python",
   "name": "python",
   "nbconvert_exporter": "python",
   "pygments_lexer": "ipython3",
   "version": "3.10.9"
  }
 },
 "nbformat": 4,
 "nbformat_minor": 5
}
