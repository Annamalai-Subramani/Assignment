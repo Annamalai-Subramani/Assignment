{
 "cells": [
  {
   "cell_type": "markdown",
   "id": "b68ab2ed",
   "metadata": {},
   "source": [
    "# Assignment - 1"
   ]
  },
  {
   "cell_type": "markdown",
   "id": "ae17c187",
   "metadata": {},
   "source": [
    "# question-1"
   ]
  },
  {
   "cell_type": "markdown",
   "id": "eef913a2",
   "metadata": {},
   "source": [
    "values can be integer or string or float.\n",
    "\n",
    "Here some examples of values\n",
    "\n",
    "1 'Hello'- string (it can written as single or double quotes)\n",
    "\n",
    "2  -87.8 - float(decimal)\n",
    "\n",
    "3   6    - integer(number)\n",
    "\n",
    "Expression used as a mathematical operator\n",
    "\n",
    "1   *   multiplication operator\n",
    "\n",
    "2   +   addition operator\n",
    "\n",
    "3   -   subtraction operator\n",
    "\n",
    "4   /   division operator"
   ]
  },
  {
   "cell_type": "markdown",
   "id": "1b9798c4",
   "metadata": {},
   "source": [
    "# question 2"
   ]
  },
  {
   "cell_type": "markdown",
   "id": "431e478f",
   "metadata": {},
   "source": [
    " string - It is a specific kind of data that can be stored in variables and it can be written as single or double quotes.\n",
    "  Ex: \"Hello world\"\n",
    "  \n",
    " variables - It is a storage location in a program it can be stored strings, numbers, boolean values, and more.\n",
    " \n",
    " x = 10 here x is a variable\n",
    " \n",
    " Here the example of string and variables\n",
    " \n",
    " name = 'Annamalai'\n",
    " \n",
    " names is a variable and 'Annamalai' is a string"
   ]
  },
  {
   "cell_type": "markdown",
   "id": "ea1f0889",
   "metadata": {},
   "source": [
    "# question 3"
   ]
  },
  {
   "cell_type": "markdown",
   "id": "f4d09cdb",
   "metadata": {},
   "source": [
    "The 3 different types of data types are \n",
    "\n",
    "1  integer - The integer data type represents whole numbers without any fractional or decimal parts.\n",
    "   Ex - 12, -9, 1000\n",
    "   \n",
    "2  float   - The float data type represents real numbers that can have both an integer and fractional part.\n",
    "   Ex - 12.4, -8.1234, 0.5\n",
    "   \n",
    "3  boolean  - The boolean data type represents a logical value that can be either true or false and it can be used in conditional statements and logical operation.\n",
    "   Ex - boolean values include true and false.   "
   ]
  },
  {
   "cell_type": "markdown",
   "id": "413fc9d9",
   "metadata": {},
   "source": [
    "# question -4"
   ]
  },
  {
   "cell_type": "markdown",
   "id": "3c603c15",
   "metadata": {},
   "source": [
    "Expression:\n",
    " \n",
    "Expression is made up of one or more operands and operators.\n",
    "\n",
    "Operands: These are the values or variables on which the operations are performed\n",
    "          Ex - '2 + 3' here 2 and 3 are operands\n",
    "          \n",
    "Operators: These are symbols or keywords that represent specific operations or actions to be performed on the operands.        \n",
    " \n",
    "Ex:\n",
    "1 * multiplication operator\n",
    "\n",
    "2 + addition operator\n",
    "\n",
    "3 - subtraction operator\n",
    "\n",
    "4 / division operator\n",
    "\n",
    "5  = assignment operator\n",
    "\n",
    "Parentheses: These are used to group sub-expressions and control the order of evaluation.\n",
    "\n",
    "Ex - (2 + 3) * 4 ensures that the addition is performed before the multiplication.\n",
    "\n",
    "\n"
   ]
  },
  {
   "cell_type": "markdown",
   "id": "16a3d195",
   "metadata": {},
   "source": [
    "# question - 5"
   ]
  },
  {
   "cell_type": "markdown",
   "id": "1a355ce9",
   "metadata": {},
   "source": [
    "expression \n",
    "\n",
    "An expression is a combination of values, variables, operators.\n",
    "Expressions can be as simple as a single value or a variable, or they can be complex with multiple operands and operators.\n",
    "Examples - 2 + 3, x * y\n",
    "\n",
    "statement\n",
    "\n",
    "A statement is a complete instruction or command.\n",
    "Statements are used to control the flow of execution.\n",
    "Examples of statements include assignment statements, control flow statements (if-else, loops), function definitions, or input/output operations"
   ]
  },
  {
   "cell_type": "markdown",
   "id": "78ede480",
   "metadata": {},
   "source": [
    "# question - 6"
   ]
  },
  {
   "cell_type": "code",
   "execution_count": 1,
   "id": "2a1071b8",
   "metadata": {},
   "outputs": [
    {
     "name": "stdout",
     "output_type": "stream",
     "text": [
      "23\n"
     ]
    }
   ],
   "source": [
    "bacon = 22\n",
    "bacon = bacon + 1\n",
    "\n",
    "print(bacon)"
   ]
  },
  {
   "cell_type": "markdown",
   "id": "430b2c65",
   "metadata": {},
   "source": [
    "# question -7"
   ]
  },
  {
   "cell_type": "code",
   "execution_count": 3,
   "id": "52c54a0b",
   "metadata": {},
   "outputs": [
    {
     "name": "stdout",
     "output_type": "stream",
     "text": [
      "spamspamspam\n",
      "spamspamspam\n"
     ]
    }
   ],
   "source": [
    "# The values of the two terms would be as follows\n",
    "\n",
    "x = 'spam' + 'spamspam'\n",
    "y = 'spam' * 3\n",
    "\n",
    "print(x)\n",
    "print(y)"
   ]
  },
  {
   "cell_type": "markdown",
   "id": "ae660ddf",
   "metadata": {},
   "source": [
    "# question -8"
   ]
  },
  {
   "cell_type": "markdown",
   "id": "fa2dc460",
   "metadata": {},
   "source": [
    " variables:\n",
    " \n",
    "Variable names typically allow letters (both uppercase and lowercase), digits (except as the first character), and underscores. \n",
    "that's why it shows syntax error."
   ]
  },
  {
   "cell_type": "code",
   "execution_count": 4,
   "id": "678e7daa",
   "metadata": {},
   "outputs": [],
   "source": [
    "x = 10 # here x is a variable it allows both upper and lower case and accept underscore(_)\n",
    "\n",
    "X = 10\n",
    "\n",
    "number_x = 10\n"
   ]
  },
  {
   "cell_type": "code",
   "execution_count": 6,
   "id": "9ce3a6ea",
   "metadata": {},
   "outputs": [
    {
     "ename": "SyntaxError",
     "evalue": "cannot assign to literal here. Maybe you meant '==' instead of '='? (1204469494.py, line 1)",
     "output_type": "error",
     "traceback": [
      "\u001b[1;36m  Cell \u001b[1;32mIn[6], line 1\u001b[1;36m\u001b[0m\n\u001b[1;33m    1 = 12 # it cannot accepted integer or any symbol\u001b[0m\n\u001b[1;37m    ^\u001b[0m\n\u001b[1;31mSyntaxError\u001b[0m\u001b[1;31m:\u001b[0m cannot assign to literal here. Maybe you meant '==' instead of '='?\n"
     ]
    }
   ],
   "source": [
    "1 = 12 # it cannot accepted integer or any symbol\n",
    "% = 1\n",
    "$ = 3"
   ]
  },
  {
   "cell_type": "markdown",
   "id": "79823644",
   "metadata": {},
   "source": [
    "# question- 9"
   ]
  },
  {
   "cell_type": "markdown",
   "id": "8dc4d6a6",
   "metadata": {},
   "source": [
    "1  Integer Conversion: int()\n",
    "\n",
    "The int() function can be used to convert a value to an integer.\n",
    "If the value is a string or float representation of an integer.\n",
    "\n",
    "ex: int(10) # output 10\n",
    "    int(4.45) # output 4\n",
    "    \n",
    "2   Floating-Point Conversion: float()\n",
    "\n",
    "The float() function can be used to convert a value to a floating-point number.\n",
    "If the value is a string representation of a number, float() can convert it to a floating-point number.\n",
    "\n",
    "ex: float(3.14) # output 3.14\n",
    "    float(5)  # output 5.0\n",
    "    \n",
    "3   String Conversion: str()\n",
    "\n",
    "The str() function can be used to convert a value to its string representation.\n",
    "str() can convert various types of values to strings.\n",
    "\n",
    "ex:  str(10)  # Output: '10'\n",
    "     str(3.14)  # Output: '3.14'\n",
    "     str(True)  # Output: 'True'"
   ]
  },
  {
   "cell_type": "markdown",
   "id": "8222fa8d",
   "metadata": {},
   "source": [
    "# question - 10\n",
    "\n"
   ]
  },
  {
   "cell_type": "code",
   "execution_count": 9,
   "id": "358cb46c",
   "metadata": {},
   "outputs": [
    {
     "ename": "TypeError",
     "evalue": "can only concatenate str (not \"int\") to str",
     "output_type": "error",
     "traceback": [
      "\u001b[1;31m---------------------------------------------------------------------------\u001b[0m",
      "\u001b[1;31mTypeError\u001b[0m                                 Traceback (most recent call last)",
      "Cell \u001b[1;32mIn[9], line 5\u001b[0m\n\u001b[0;32m      1\u001b[0m \u001b[38;5;66;03m# 'I have eaten' + 99 + 'burritos' - causes an error because it involves concatenating a string with an integer value - 99\u001b[39;00m\n\u001b[0;32m      2\u001b[0m \n\u001b[0;32m      3\u001b[0m \u001b[38;5;66;03m# both operands are string but one operands are not string that's why it shows type error.\u001b[39;00m\n\u001b[1;32m----> 5\u001b[0m x \u001b[38;5;241m=\u001b[39m \u001b[38;5;124;43m'\u001b[39;49m\u001b[38;5;124;43mI have eaten\u001b[39;49m\u001b[38;5;124;43m'\u001b[39;49m\u001b[43m \u001b[49m\u001b[38;5;241;43m+\u001b[39;49m\u001b[43m \u001b[49m\u001b[38;5;241;43m99\u001b[39;49m \u001b[38;5;241m+\u001b[39m \u001b[38;5;124m'\u001b[39m\u001b[38;5;124mburritos\u001b[39m\u001b[38;5;124m'\u001b[39m\n\u001b[0;32m      6\u001b[0m \u001b[38;5;28mprint\u001b[39m(x)\n\u001b[0;32m      8\u001b[0m \u001b[38;5;66;03m# using the str(), convert integer into string \u001b[39;00m\n",
      "\u001b[1;31mTypeError\u001b[0m: can only concatenate str (not \"int\") to str"
     ]
    }
   ],
   "source": [
    "# 'I have eaten' + 99 + 'burritos' - causes an error because it involves concatenating a string with an integer value - 99\n",
    "\n",
    "# both operands are string but one operands are not string that's why it shows type error.\n",
    "\n",
    "x = 'I have eaten' + 99 + 'burritos'\n",
    "print(x)\n",
    "\n",
    "# using the str(), convert integer into string \n",
    "\n",
    "a = 'I have eaten' + str(99) + 'burritos'\n",
    "print(a)"
   ]
  },
  {
   "cell_type": "code",
   "execution_count": 11,
   "id": "d3f67dcf",
   "metadata": {},
   "outputs": [
    {
     "name": "stdout",
     "output_type": "stream",
     "text": [
      "I have eaten99burritos\n"
     ]
    }
   ],
   "source": [
    "a = 'I have eaten' + str(99) +  'burritos'\n",
    "print(a)\n"
   ]
  },
  {
   "cell_type": "code",
   "execution_count": null,
   "id": "86f20b77",
   "metadata": {},
   "outputs": [],
   "source": []
  }
 ],
 "metadata": {
  "kernelspec": {
   "display_name": "Python 3 (ipykernel)",
   "language": "python",
   "name": "python3"
  },
  "language_info": {
   "codemirror_mode": {
    "name": "ipython",
    "version": 3
   },
   "file_extension": ".py",
   "mimetype": "text/x-python",
   "name": "python",
   "nbconvert_exporter": "python",
   "pygments_lexer": "ipython3",
   "version": "3.10.9"
  }
 },
 "nbformat": 4,
 "nbformat_minor": 5
}
