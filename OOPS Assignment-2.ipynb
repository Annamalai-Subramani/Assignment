{
 "cells": [
  {
   "cell_type": "markdown",
   "id": "70658936",
   "metadata": {},
   "source": [
    "# OOPS Assignment-2"
   ]
  },
  {
   "cell_type": "markdown",
   "id": "1d66e773",
   "metadata": {},
   "source": [
    "# 1) Explain what inheritance is in object-oriented programming and why it is used."
   ]
  },
  {
   "cell_type": "markdown",
   "id": "2cd9cd46",
   "metadata": {},
   "source": [
    "In object-oriented programming (OOP), inheritance is a fundamental concept that allows a class to inherit properties and behaviors from another class.\n",
    "It establishes a hierarchical relationship between classes, where a new class, known as a derived class or subclass,can inherit attributes and methods from an existing class, called the base class or superclass.\n"
   ]
  },
  {
   "cell_type": "markdown",
   "id": "bb419205",
   "metadata": {},
   "source": [
    "# 2) Discuss the concept of single inheritance and multiple inheritance, highlighting their differences and advantages.\n"
   ]
  },
  {
   "cell_type": "markdown",
   "id": "f571e235",
   "metadata": {},
   "source": [
    "Single inheritance is a form of inheritance where a derived class inherits from a single base class.\n",
    "This means that a class can have only one direct superclass.\n",
    "Simplicity: Single inheritance provides a straightforward and linear class hierarchy. \n",
    "It is easy to understand and maintain as there is only one direct base class.\n",
    "\n",
    "Multiple Inheritance:\n",
    "Multiple inheritance is a feature that allows a derived class to inherit from multiple base classes.\n",
    "In this approach, a class can have multiple direct superclasses, and it inherits the attributes and behaviors from all of them. \n",
    "Multiple inheritance offers flexibility and the ability to combine features from different classes\n",
    "\n",
    "#Disadvantages:\n",
    "1.Number of Base Classes: Single inheritance involves inheriting from a single base class, \n",
    "while multiple inheritance allows inheriting from multiple base classes.\n",
    "\n",
    "2.Complexity: Multiple inheritance is generally more complex than single inheritance due to the potential for conflicts and the need to manage and resolve them.\"\"\"\n",
    "Explain the terms \"base class\" and \"derived class\" in the context of inheritance."
   ]
  },
  {
   "cell_type": "markdown",
   "id": "47f68648",
   "metadata": {},
   "source": [
    "# 3) Explain the terms \"base class\" and \"derived class\" in the context of inheritance."
   ]
  },
  {
   "cell_type": "markdown",
   "id": "5e222dce",
   "metadata": {},
   "source": [
    "#Base class:\n",
    "It is the class which gets derived by another class.\n",
    "It is also called as a parent class which give its attributes and methods access to another class\n",
    "\n",
    "#Derived class:\n",
    "A derived class, also known as a subclass or child class, is a new class that is created by inheriting properties and behaviors from a base class\n"
   ]
  },
  {
   "cell_type": "markdown",
   "id": "46a7835b",
   "metadata": {},
   "source": [
    "# 4) What is the significance of the \"protected\" access modifier in inheritance? How does it differ from \"private\" and \"public\" modifiers?\n"
   ]
  },
  {
   "cell_type": "markdown",
   "id": "28390d1c",
   "metadata": {},
   "source": [
    "In public access modifier all the attribute and methods are allowed to access anywhere like class itself or child class or also we can access them using object.\n",
    "\n",
    "In protected access modifier all the attribute and methods are allowed to access anywhere in class itself or child class but we can't access them using object.\n",
    "\n",
    "In private access modifier all its attributes and methods are accessible in only self class. there is no allow to child class and object to acess.\n"
   ]
  },
  {
   "cell_type": "markdown",
   "id": "8ffd5f11",
   "metadata": {},
   "source": [
    "# 5) What is the purpose of the \"super\" keyword in inheritance? Provide an example."
   ]
  },
  {
   "cell_type": "code",
   "execution_count": 1,
   "id": "b84c34f4",
   "metadata": {},
   "outputs": [],
   "source": [
    "# Super keyword:\n",
    "\"\"\"It is used get parent class constructer into child class\"\"\"\n",
    "class Employee:\n",
    "    def __init__(self,name,age):\n",
    "        self.name=name\n",
    "        self.age=age\n",
    "class User(Employee):\n",
    "    def __init__(name,user_id):\n",
    "        self.user_id=user_id\n",
    "        super().__init__(name)"
   ]
  },
  {
   "cell_type": "markdown",
   "id": "a99bb939",
   "metadata": {},
   "source": [
    "# Create a base class called \"Vehicle\" with attributes like \"make\", \"model\", and \"year\".\n",
    "Then, create a derived class called \"Car\" that inherits from \"Vehicle\" and adds an attribute called \"fuel_type\". Implement appropriate methods in both classes."
   ]
  },
  {
   "cell_type": "code",
   "execution_count": 7,
   "id": "6632a6fb",
   "metadata": {},
   "outputs": [
    {
     "name": "stdout",
     "output_type": "stream",
     "text": [
      "Starting the vehicle.\n",
      "Make: Maruthi\n",
      "Model: Swift\n",
      "Year: 2022\n",
      "fuel_type:petrol\n"
     ]
    }
   ],
   "source": [
    "class Vehicle:\n",
    "    def __init__(self,make,model,year):\n",
    "        self.make=make\n",
    "        self.model=model\n",
    "        self.year=year\n",
    "    def start(self):\n",
    "        print(\"Starting the vehicle.\")\n",
    "    def display_info(self):\n",
    "        print(f\"Make: {self.make}\")\n",
    "        print(f\"Model: {self.model}\")\n",
    "        print(f\"Year: {self.year}\")\n",
    "        \n",
    "class Car(Vehicle):\n",
    "    def __init__(self,make,model,year,fuel_type):\n",
    "        self.fuel_type=fuel_type\n",
    "        super().__init__(make,model,year)\n",
    "    def start(self):\n",
    "        super().start()\n",
    "    def display_info(self):\n",
    "        super().display_info()\n",
    "        print(f\"fuel_type:{self.fuel_type}\")\n",
    "car = Car(\"Maruthi\", \"Swift\",2022,'petrol',)\n",
    "car.start()\n",
    "car.display_info()"
   ]
  },
  {
   "cell_type": "markdown",
   "id": "4b657116",
   "metadata": {},
   "source": [
    "# 7) Create a base class called \"Employee\" with attributes like \"name\" and \"salary.\"\n",
    "Derive two classes, \"Manager\" and \"Developer,\" from \"Employee.\" Add an additional attribute called \"department\" for the \"Manager\" class and \"programming_language\" for the \"Developer\" class."
   ]
  },
  {
   "cell_type": "code",
   "execution_count": 11,
   "id": "36363dc5",
   "metadata": {},
   "outputs": [
    {
     "name": "stdout",
     "output_type": "stream",
     "text": [
      "The name of the manager is Annamalai and  his salary 50000 and department Data science.\n",
      "My name  is Annamalai and  my salary 50000 and I know Python.\n"
     ]
    }
   ],
   "source": [
    "class Employee:\n",
    "    def __init__(self,name,salary):\n",
    "        self.name=name\n",
    "        self.salary=salary\n",
    "class Manager(Employee):\n",
    "    def __init__(self,name,salary,department):\n",
    "        self.department=department\n",
    "        super().__init__(name,salary)\n",
    "        \n",
    "    def display(self):\n",
    "        print(f'The name of the manager is {self.name} and  his salary {self.salary} and department {self.department}.')\n",
    "class Developer(Employee):\n",
    "    def __init__(self,name,salary,programming_language,):\n",
    "        self.programming_language=programming_language\n",
    "        super().__init__(name,salary)\n",
    "    \n",
    "    def display(self):\n",
    "        print(f'My name  is {self.name} and  my salary {self.salary} and I know {self.programming_language}.')\n",
    "\n",
    "manager = Manager('Annamalai',50000,'Data science')\n",
    "developer = Developer('Annamalai',50000,'Python')\n",
    "manager.display()\n",
    "developer.display()"
   ]
  },
  {
   "cell_type": "markdown",
   "id": "be585cee",
   "metadata": {},
   "source": [
    "# 8) Design a base class called \"Shape\" with attributes like \"colour\" and \"border_width.\"\n",
    "Create derived classes, \"Rectangle\" and \"Circle,\" that inherit from \"Shape\" and add specific attributes like \"length\" and \"width\" for the \"Rectangle\" class and \"radius\" for the \"Circle\" class."
   ]
  },
  {
   "cell_type": "code",
   "execution_count": 16,
   "id": "7793f990",
   "metadata": {},
   "outputs": [
    {
     "name": "stdout",
     "output_type": "stream",
     "text": [
      "The color of the rectangle is Blue and border width 2 and total size of the rectangle is 50\n",
      "The color of the circle is Red and border width 1 and total size of the circle is 153.86\n"
     ]
    }
   ],
   "source": [
    "class Shape:\n",
    "    def __init__(self, colour, border_width):\n",
    "        self.colour = colour\n",
    "        self.border_width = border_width\n",
    "\n",
    "class Rectangle(Shape):\n",
    "    def __init__(self, colour, border_width, length, width):\n",
    "        super().__init__(colour, border_width)\n",
    "        self.length = length\n",
    "        self.width = width\n",
    "        \n",
    "    def display(self):\n",
    "        print(f'The color of the rectangle is {self.colour} and border width {self.border_width} and total size of the rectangle is {self.length*self.width}')\n",
    "\n",
    "class Circle(Shape):\n",
    "    def __init__(self, colour, border_width, radius):\n",
    "        super().__init__(colour, border_width)\n",
    "        self.radius = radius\n",
    "        \n",
    "    def display(self):\n",
    "        print(f'The color of the circle is {self.colour} and border width {self.border_width} and total size of the circle is {3.14*self.radius*self.radius}')\n",
    "\n",
    "rectangle = Rectangle(\"Blue\", 2, 10, 5)\n",
    "circle = Circle(\"Red\", 1, 7)\n",
    "rectangle.display()\n",
    "circle.display()"
   ]
  },
  {
   "cell_type": "markdown",
   "id": "75b838ab",
   "metadata": {},
   "source": [
    "# Create a base class called \"Device\" with attributes like \"brand\" and \"model.\" Derive\n",
    "two classes, \"Phone\" and \"Tablet,\" from \"Device.\" Add specific attributes like \"screen_size\" for the \"Phone\" class and \"battery_capacity\" for the \"Tablet\" class."
   ]
  },
  {
   "cell_type": "code",
   "execution_count": 17,
   "id": "210ed1a7",
   "metadata": {},
   "outputs": [
    {
     "name": "stdout",
     "output_type": "stream",
     "text": [
      "Brand: Realme\n",
      "Model: GT2\n",
      "Screen Size: 6.2 inches\n",
      "Brand: Samsung\n",
      "Model: Galaxy Tab S7\n",
      "Battery Capacity: 8000 mAh\n"
     ]
    }
   ],
   "source": [
    "class Device:\n",
    "    def __init__(self, brand, model):\n",
    "        self.brand = brand\n",
    "        self.model = model\n",
    "    def display_info(self):\n",
    "        print(f\"Brand: {self.brand}\")\n",
    "        print(f\"Model: {self.model}\")\n",
    "        \n",
    "class Phone(Device):\n",
    "    def __init__(self, brand, model, screen_size):\n",
    "        super().__init__(brand, model)\n",
    "        self.screen_size = screen_size\n",
    "    def display_info(self):\n",
    "        super().display_info()\n",
    "        print(f\"Screen Size: {self.screen_size}\")\n",
    "\n",
    "class Tablet(Device):\n",
    "    def __init__(self, brand, model, battery_capacity):\n",
    "        super().__init__(brand, model)\n",
    "        self.battery_capacity = battery_capacity\n",
    "\n",
    "    def display_info(self):\n",
    "        super().display_info()\n",
    "        print(f\"Battery Capacity: {self.battery_capacity}\")\n",
    "\n",
    "\n",
    "phone = Phone(\"Realme\", \"GT2\", \"6.2 inches\")\n",
    "phone.display_info()\n",
    "\n",
    "tablet = Tablet(\"Samsung\", \"Galaxy Tab S7\", \"8000 mAh\")\n",
    "tablet.display_info()"
   ]
  },
  {
   "cell_type": "markdown",
   "id": "0e6afcaa",
   "metadata": {},
   "source": [
    "# Create a base class called \"BankAccount\" with attributes like \"account_number\" and\n",
    "\"balance.\" Derive two classes, \"SavingsAccount\" and \"CheckingAccount,\" from \"BankAccount.\" Add specific methods like \"calculate_interest\" for the \"SavingsAccount\" class and \"deduct_fees\" for the \"CheckingAccount\" class."
   ]
  },
  {
   "cell_type": "code",
   "execution_count": 18,
   "id": "a494e107",
   "metadata": {},
   "outputs": [
    {
     "name": "stdout",
     "output_type": "stream",
     "text": [
      "Account Number: 04002000\n",
      "Balance: 1500\n",
      "Interest added. Current balance: 1575.0\n",
      "\n",
      "Account Number: 0003297\n",
      "Balance: 2000\n",
      "Fees deducted. Current balance: 1950\n"
     ]
    }
   ],
   "source": [
    "class BankAccount:\n",
    "    def __init__(self, account_number, balance):\n",
    "        self.account_number = account_number\n",
    "        self.balance = balance\n",
    "\n",
    "    def display_info(self):\n",
    "        print(f\"Account Number: {self.account_number}\")\n",
    "        print(f\"Balance: {self.balance}\")\n",
    "\n",
    "\n",
    "class SavingsAccount(BankAccount):\n",
    "    def __init__(self, account_number, balance):\n",
    "        super().__init__(account_number, balance)\n",
    "\n",
    "    def calculate_interest(self, interest_rate):\n",
    "        interest = self.balance * interest_rate\n",
    "        self.balance += interest\n",
    "        print(f\"Interest added. Current balance: {self.balance}\")\n",
    "\n",
    "\n",
    "class CheckingAccount(BankAccount):\n",
    "    def __init__(self, account_number, balance):\n",
    "        super().__init__(account_number, balance)\n",
    "\n",
    "    def deduct_fees(self, fee_amount):\n",
    "        self.balance -= fee_amount\n",
    "        print(f\"Fees deducted. Current balance: {self.balance}\")\n",
    "\n",
    "\n",
    "savings = SavingsAccount(\"04002000\", 1500)\n",
    "savings.display_info()\n",
    "savings.calculate_interest(0.05)\n",
    "print() \n",
    "\n",
    "checking = CheckingAccount(\"0003297\", 2000)\n",
    "checking.display_info()\n",
    "checking.deduct_fees(50)"
   ]
  },
  {
   "cell_type": "code",
   "execution_count": null,
   "id": "2a58571c",
   "metadata": {},
   "outputs": [],
   "source": []
  }
 ],
 "metadata": {
  "kernelspec": {
   "display_name": "Python 3 (ipykernel)",
   "language": "python",
   "name": "python3"
  },
  "language_info": {
   "codemirror_mode": {
    "name": "ipython",
    "version": 3
   },
   "file_extension": ".py",
   "mimetype": "text/x-python",
   "name": "python",
   "nbconvert_exporter": "python",
   "pygments_lexer": "ipython3",
   "version": "3.10.9"
  }
 },
 "nbformat": 4,
 "nbformat_minor": 5
}
