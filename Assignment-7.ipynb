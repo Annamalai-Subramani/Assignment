{
 "cells": [
  {
   "cell_type": "markdown",
   "id": "41e609fe",
   "metadata": {},
   "source": [
    "# Assignment-7\n",
    "# question-1\n",
    "Create two int type variables, apply addition, subtraction, division and multiplications\n",
    "and store the results in variables. Then print the data in the following format by calling the\n",
    "variables:\n",
    "First variable is __ & second variable is __.\n",
    "Addition: __ + __ = __\n",
    "Subtraction: __ - __ = __\n",
    "Multiplication: __ * __ = __\n",
    "Division: __ / __ = __"
   ]
  },
  {
   "cell_type": "code",
   "execution_count": 1,
   "id": "eb06fc35",
   "metadata": {},
   "outputs": [
    {
     "name": "stdout",
     "output_type": "stream",
     "text": [
      "First variable is 15 & second variable is 5\n",
      "Addition: 15 + 5 = 20\n",
      "Subtraction: 15 - 5 = 10\n",
      "Multiplication: 15 * 5 = 75\n",
      "Division: 15 / 5 = 3.0\n"
     ]
    }
   ],
   "source": [
    "first_variable = 15\n",
    "second_variable = 5\n",
    "\n",
    "addition = first_variable + second_variable\n",
    "subtraction = first_variable - second_variable\n",
    "multiplication = first_variable * second_variable\n",
    "division = first_variable / second_variable\n",
    "\n",
    "print(\"First variable is\", first_variable, \"& second variable is\", second_variable)\n",
    "print(\"Addition:\", first_variable, \"+\", second_variable, \"=\", addition)\n",
    "print(\"Subtraction:\", first_variable, \"-\", second_variable, \"=\", subtraction)\n",
    "print(\"Multiplication:\", first_variable, \"*\", second_variable, \"=\", multiplication)\n",
    "print(\"Division:\", first_variable, \"/\", second_variable, \"=\", division)"
   ]
  },
  {
   "cell_type": "markdown",
   "id": "4a36e28e",
   "metadata": {},
   "source": [
    "# question-2\n",
    "What is the difference between the following operators:\n",
    "(i) ‘/’ & ‘//’\n",
    "(ii) ‘**’ & ‘^’"
   ]
  },
  {
   "cell_type": "markdown",
   "id": "ec05a2f9",
   "metadata": {},
   "source": [
    "* / performs division and returns a float result.\n",
    "* // performs integer division (floor division) and returns an integer result.\n",
    "* ** is used for exponentiation.\n",
    "* ^ is the bitwise XOR operator, not used for exponentiation in Python."
   ]
  },
  {
   "cell_type": "code",
   "execution_count": 2,
   "id": "16565ee0",
   "metadata": {},
   "outputs": [
    {
     "name": "stdout",
     "output_type": "stream",
     "text": [
      "3.3333333333333335\n",
      "3\n",
      "1000\n",
      "9\n"
     ]
    }
   ],
   "source": [
    "a = 10\n",
    "b = 3\n",
    "\n",
    "print(a / b)\n",
    "print(a // b)\n",
    "print(a ** b)\n",
    "print(a ^ b)"
   ]
  },
  {
   "cell_type": "markdown",
   "id": "43168e8e",
   "metadata": {},
   "source": [
    "# question-3\n",
    "List the logical operators."
   ]
  },
  {
   "cell_type": "markdown",
   "id": "d3d1f369",
   "metadata": {},
   "source": [
    "* and: The and operator returns True if both operands are True, otherwise it returns False. It performs a logical conjunction.\n",
    "\n",
    "* or: The or operator returns True if at least one of the operands is True, otherwise it returns False. It performs a logical disjunction.\n",
    "\n",
    "* not: The not operator returns the negation of the operand. If the operand is True, it returns False, and if the operand is False, it returns True. It performs a logical negation."
   ]
  },
  {
   "cell_type": "code",
   "execution_count": 5,
   "id": "646be1b4",
   "metadata": {},
   "outputs": [
    {
     "name": "stdout",
     "output_type": "stream",
     "text": [
      "Both conditions are True\n",
      "At least one condition is True\n",
      "The condition is False\n"
     ]
    }
   ],
   "source": [
    "x = 5\n",
    "y = 10\n",
    "z = 7\n",
    "\n",
    "# Logical AND\n",
    "if x < y and y > z:\n",
    "    print(\"Both conditions are True\")\n",
    "\n",
    "# Logical OR\n",
    "if x < y or y < z:\n",
    "    print(\"At least one condition is True\")\n",
    "\n",
    "# Logical NOT\n",
    "if not x > y:\n",
    "    print(\"The condition is False\")"
   ]
  },
  {
   "cell_type": "markdown",
   "id": "f9135660",
   "metadata": {},
   "source": [
    "# question-4\n",
    "Explain right shift operator and left shift operator with examples."
   ]
  },
  {
   "cell_type": "markdown",
   "id": "c59e71d6",
   "metadata": {},
   "source": [
    "The right shift (>>) operator shifts the bits of a number to the right by a specified number of positions, discarding the rightmost bits.\n",
    "\n",
    "The left shift (<<) operator shifts the bits of a number to the left by a specified number of positions, filling the vacated bits with zeros."
   ]
  },
  {
   "cell_type": "code",
   "execution_count": 6,
   "id": "570ee40c",
   "metadata": {},
   "outputs": [
    {
     "name": "stdout",
     "output_type": "stream",
     "text": [
      "3\n",
      "48\n"
     ]
    }
   ],
   "source": [
    "a = 12\n",
    "\n",
    "\n",
    "results = a >> 2\n",
    "print(results)\n",
    "\n",
    "results = a << 2\n",
    "print(results)"
   ]
  },
  {
   "cell_type": "markdown",
   "id": "1de427d6",
   "metadata": {},
   "source": [
    "# question-5\n",
    "Create a list containing int type data of length 15. Then write a code to check if 10 is present in the list or not."
   ]
  },
  {
   "cell_type": "code",
   "execution_count": 9,
   "id": "05e97af2",
   "metadata": {},
   "outputs": [
    {
     "name": "stdout",
     "output_type": "stream",
     "text": [
      "15\n",
      "10 is present in the list\n"
     ]
    }
   ],
   "source": [
    "list1 = [12, 23, 45, 65, 10, 11, 24, 54, 31, 81, 99, 27, 49, 87, 8]\n",
    "print(len(list1))\n",
    "\n",
    "\n",
    "if 10 in list1:\n",
    "    print('10 is present in the list')\n",
    "else:\n",
    "    print('10 is not in the list')"
   ]
  },
  {
   "cell_type": "code",
   "execution_count": null,
   "id": "1fd0e388",
   "metadata": {},
   "outputs": [],
   "source": []
  }
 ],
 "metadata": {
  "kernelspec": {
   "display_name": "Python 3 (ipykernel)",
   "language": "python",
   "name": "python3"
  },
  "language_info": {
   "codemirror_mode": {
    "name": "ipython",
    "version": 3
   },
   "file_extension": ".py",
   "mimetype": "text/x-python",
   "name": "python",
   "nbconvert_exporter": "python",
   "pygments_lexer": "ipython3",
   "version": "3.10.9"
  }
 },
 "nbformat": 4,
 "nbformat_minor": 5
}
