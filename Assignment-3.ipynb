{
 "cells": [
  {
   "cell_type": "markdown",
   "id": "0a234a0c",
   "metadata": {},
   "source": [
    "# Assignment - 3\n",
    "# question-1"
   ]
  },
  {
   "cell_type": "markdown",
   "id": "0a0c5846",
   "metadata": {},
   "source": [
    "Why are functions advantageous to have in your programs?\n",
    "\n",
    "functions contribute to better code structure, reusability, readability, maintainability, and scalability, making them an essential tool for writing clean, efficient, and robust programs.\n",
    "\n",
    "1.Reusability: By defining a function, you can reuse that code multiple times throughout your program without duplicating the same set of instructions.\n",
    "\n",
    "2.Modularity: Functions break down complex tasks into smaller, manageable units. \n",
    "\n",
    "3.Abstraction: Functions provide a higher level of abstraction, allowing you to use pre-defined functions without worrying about their implementation details.You can use pre-defined functions to perform common actions, such as adding numbers or printing text, without understanding all the technical details.\n",
    "\n",
    "4.Readability: Functions make your code easier to read and understand.\n",
    "\n",
    "5.Testing and Debugging: Functions help you test and fix problems in your code more effectively."
   ]
  },
  {
   "cell_type": "markdown",
   "id": "4364574d",
   "metadata": {},
   "source": [
    "# question-2"
   ]
  },
  {
   "cell_type": "markdown",
   "id": "06fe37a0",
   "metadata": {},
   "source": [
    "When does the code in a function run: when its specified or when its called?\n",
    "\n",
    "\n",
    "def hello():\n",
    "    print(\"Hello, World!\")\n",
    "\n",
    "print(\"Before function call\")\n",
    "hello()\n",
    "print(\"After function call\")\n",
    "\n",
    "\n",
    "the hello() function is defined with the instruction to print \"Hello, World!\" When the function is called using hello(), the program flow jumps to the function's code block, executes the print statement, and then returns to the point where it was called. \n",
    "\n",
    "output:\n",
    "\n",
    "Before function call\n",
    "Hello, World!\n",
    "After function call\n",
    "As you can see, the code inside the function runs when it is called, not when it is defined.\n",
    "\n",
    "\n",
    "\n",
    "\n",
    "\n",
    "\n",
    "\n",
    "\n",
    "\n"
   ]
  },
  {
   "cell_type": "markdown",
   "id": "7bb85af3",
   "metadata": {},
   "source": [
    "# question_3"
   ]
  },
  {
   "cell_type": "markdown",
   "id": "e23b9318",
   "metadata": {},
   "source": [
    "the 'def' statement is used to create a function. The 'def' statement is followed by the function name, a set of parentheses for optional parameters, and a colon to indicate the start of the function's code block."
   ]
  },
  {
   "cell_type": "code",
   "execution_count": 1,
   "id": "3622d28d",
   "metadata": {},
   "outputs": [
    {
     "name": "stdout",
     "output_type": "stream",
     "text": [
      "hello world!\n"
     ]
    }
   ],
   "source": [
    "# example\n",
    "def hello(): \n",
    "    print('hello world!')\n",
    "    \n",
    "hello()    "
   ]
  },
  {
   "cell_type": "markdown",
   "id": "e029d7fa",
   "metadata": {},
   "source": [
    "# question-4"
   ]
  },
  {
   "cell_type": "markdown",
   "id": "4d3bc93d",
   "metadata": {},
   "source": [
    "What is the difference between a function and a function call?\n",
    "\n",
    "Function: A function is a reusable block of code that performs a specific task or a set of instructions. It is defined using a function declaration or definition, typically with a name, optional parameters, and a code block.\n",
    "\n",
    "Function Call: A function call, also known as invoking or executing a function, is the act of using a function in your code to perform its intended task.\n",
    "\n",
    "example:\n",
    "\n",
    "def hello(): # function name\n",
    "    print('hello world!')\n",
    "    \n",
    "hello()  # function call\n",
    "\n",
    "output: \n",
    "\n",
    "hello world!\n",
    "\n"
   ]
  },
  {
   "cell_type": "markdown",
   "id": "f02e558e",
   "metadata": {},
   "source": [
    "# question-5"
   ]
  },
  {
   "cell_type": "markdown",
   "id": "4b937c5c",
   "metadata": {},
   "source": [
    "How many global scopes are there in a Python program? How many local scopes?\n",
    "\n",
    "there is typically one global scope and multiple local scopes.\n",
    "\n",
    "Global Scope: The global scope refers to the outermost level of a program. It is the scope in which global variables, functions, and classes are defined.\n",
    "\n",
    "Local Scopes: Local scopes are created whenever a function or a block of code, such as a loop or conditional statement, is executed. These local scopes are temporary and exist only during the execution of the specific function or block of code.\n",
    "\n",
    "example:\n",
    "\n",
    "global_var = \"I am in the global scope\"\n",
    "\n",
    "def my_function():\n",
    "    local_var = \"I am in a local scope\"\n",
    "    print(local_var)\n",
    "    print(global_var)\n",
    "\n",
    "my_function()"
   ]
  },
  {
   "cell_type": "markdown",
   "id": "0bcca5d9",
   "metadata": {},
   "source": [
    "# question-6"
   ]
  },
  {
   "cell_type": "markdown",
   "id": "2c6f7efb",
   "metadata": {},
   "source": [
    "What happens to variables in a local scope when the function call returns?\n",
    "\n",
    "When a function call returns, the local variables in its scope are destroyed and their memory is released."
   ]
  },
  {
   "cell_type": "code",
   "execution_count": 1,
   "id": "6887e9a0",
   "metadata": {},
   "outputs": [
    {
     "name": "stdout",
     "output_type": "stream",
     "text": [
      "30\n"
     ]
    }
   ],
   "source": [
    "def my_function():\n",
    "    x = 10\n",
    "    y = 20\n",
    "    z = x + y\n",
    "    return z\n",
    "\n",
    "result = my_function()\n",
    "print(result)"
   ]
  },
  {
   "cell_type": "markdown",
   "id": "7de352dc",
   "metadata": {},
   "source": [
    "# question-7"
   ]
  },
  {
   "cell_type": "markdown",
   "id": "cba370da",
   "metadata": {},
   "source": [
    "What is the concept of a return value? Is it possible to have a return value in an expression?\n",
    "\n",
    "Yes, it is possible to use the return value of a function in an expression or assign it to a variable.\n",
    "\n",
    "def calculate_sum(a, b):\n",
    "    return a + b\n",
    "\n",
    "result = calculate_sum(3, 5)\n",
    "print(result)\n",
    "\n",
    "output: 8"
   ]
  },
  {
   "cell_type": "markdown",
   "id": "c8c3976d",
   "metadata": {},
   "source": [
    "# question-8"
   ]
  },
  {
   "cell_type": "markdown",
   "id": "87a36ccf",
   "metadata": {},
   "source": [
    "If a function does not have a return statement, what is the return value of a call to that function?\n",
    "\n",
    "If a function does not have a return statement, the return value of a call to that function is 'None'."
   ]
  },
  {
   "cell_type": "markdown",
   "id": "47af0468",
   "metadata": {},
   "source": [
    "# question-9"
   ]
  },
  {
   "cell_type": "markdown",
   "id": "2d1357f5",
   "metadata": {},
   "source": [
    "How do you make a function variable refer to the global variable?\n",
    "\n",
    "To make a function variable refer to the global variable, you can use the 'global' keyword in Python. This keyword allows you to explicitly indicate that a variable inside a function should refer to the global variable with the same name.\n",
    "\n"
   ]
  },
  {
   "cell_type": "code",
   "execution_count": 3,
   "id": "dc2a319a",
   "metadata": {},
   "outputs": [
    {
     "name": "stdout",
     "output_type": "stream",
     "text": [
      "20\n"
     ]
    }
   ],
   "source": [
    "x = 10  # global variable\n",
    "\n",
    "def my_function():\n",
    "    global x  # declare x as global\n",
    "    x = 20   # modify the global x variable\n",
    "\n",
    "my_function()\n",
    "print(x)  "
   ]
  },
  {
   "cell_type": "markdown",
   "id": "8c7bc016",
   "metadata": {},
   "source": [
    "# question-10"
   ]
  },
  {
   "cell_type": "markdown",
   "id": "621f5193",
   "metadata": {},
   "source": [
    "What is the data type of None?\n",
    "\n",
    "The data type of None in Python is NoneType. It is a built-in type that represents the absence of a value or a null value."
   ]
  },
  {
   "cell_type": "code",
   "execution_count": 4,
   "id": "c7efe8f8",
   "metadata": {},
   "outputs": [
    {
     "data": {
      "text/plain": [
       "NoneType"
      ]
     },
     "execution_count": 4,
     "metadata": {},
     "output_type": "execute_result"
    }
   ],
   "source": [
    "x = None\n",
    "\n",
    "type(x)"
   ]
  },
  {
   "cell_type": "markdown",
   "id": "cda0890e",
   "metadata": {},
   "source": [
    "# question-11"
   ]
  },
  {
   "cell_type": "markdown",
   "id": "cb781238",
   "metadata": {},
   "source": [
    "What does the sentence import areallyourpetsnamederic do?\n",
    "\n",
    "There is no import package or library in areallyourpetsnamederic, import statements are used to import modules or packages into your code, allowing you to use their functionalities.\n",
    "\n",
    "import math # provide mathematical function"
   ]
  },
  {
   "cell_type": "markdown",
   "id": "5ff7836e",
   "metadata": {},
   "source": [
    "# question-12"
   ]
  },
  {
   "cell_type": "markdown",
   "id": "99ee2494",
   "metadata": {},
   "source": [
    "If you had a bacon() feature in a spam module, what would you call it after importing spam?\n",
    "\n",
    "If you have a bacon() feature in a spam module and you have imported the spam module, you can call the bacon() feature using the dot notation with the module name.\n",
    "\n",
    "example: \n",
    "\n",
    "import spam\n",
    "\n",
    "spam.bacon()"
   ]
  },
  {
   "cell_type": "markdown",
   "id": "73ed264d",
   "metadata": {},
   "source": [
    "# question-13"
   ]
  },
  {
   "cell_type": "markdown",
   "id": "4a87d612",
   "metadata": {},
   "source": [
    "What can you do to save a programme from crashing if it encounters an error?\n",
    "\n",
    "To save a program from crashing if it encounters an error, you can use error handling techniques such as try-except blocks to catch and handle exceptions."
   ]
  },
  {
   "cell_type": "code",
   "execution_count": 11,
   "id": "a9490a84",
   "metadata": {},
   "outputs": [
    {
     "ename": "ZeroDivisionError",
     "evalue": "division by zero",
     "output_type": "error",
     "traceback": [
      "\u001b[1;31m---------------------------------------------------------------------------\u001b[0m",
      "\u001b[1;31mZeroDivisionError\u001b[0m                         Traceback (most recent call last)",
      "Cell \u001b[1;32mIn[11], line 1\u001b[0m\n\u001b[1;32m----> 1\u001b[0m x \u001b[38;5;241m=\u001b[39m \u001b[38;5;241;43m10\u001b[39;49m\u001b[38;5;241;43m/\u001b[39;49m\u001b[38;5;241;43m0\u001b[39;49m\n\u001b[0;32m      2\u001b[0m x\n",
      "\u001b[1;31mZeroDivisionError\u001b[0m: division by zero"
     ]
    }
   ],
   "source": [
    "x = 10/0\n",
    "x"
   ]
  },
  {
   "cell_type": "code",
   "execution_count": 12,
   "id": "777f705e",
   "metadata": {},
   "outputs": [
    {
     "name": "stdout",
     "output_type": "stream",
     "text": [
      "Error: Division by zero occurred.\n"
     ]
    }
   ],
   "source": [
    "try:\n",
    "    result = 10 / 0  # Division by zero\n",
    "    print(result)\n",
    "except ZeroDivisionError:\n",
    "    # Handling specific exception\n",
    "    print(\"Error: Division by zero occurred.\")"
   ]
  },
  {
   "cell_type": "markdown",
   "id": "14803076",
   "metadata": {},
   "source": [
    "# question-14"
   ]
  },
  {
   "cell_type": "markdown",
   "id": "1a97dfd7",
   "metadata": {},
   "source": [
    "What is the purpose of the try clause? What is the purpose of the except clause?\n",
    "\n",
    "*The purpose of the try clause is to enclose the code that may raise an exception. It is used to monitor for exceptions during its execution.\n",
    "\n",
    "*The purpose of the except clause is to specify how to handle specific types of exceptions that may occur within the try block. It defines the exception type(s) it can handle and provides the code to be executed when that exception occurs.\n",
    "\n",
    "example:\n",
    "\n",
    "try:\n",
    "    x = 10 / 0  # Division by zero\n",
    "except ZeroDivisionError:\n",
    "    print(\"Error: Division by zero occurred.\")\n",
    "    \n",
    "In this example, the try block contains the code x = 10 / 0, which attempts to perform division by zero, causing a ZeroDivisionError to be raised.\n",
    "\n",
    "The except block specifies the ZeroDivisionError exception and provides the code to handle it, which is print(\"Error: Division by zero occurred.\")."
   ]
  },
  {
   "cell_type": "code",
   "execution_count": null,
   "id": "59d76548",
   "metadata": {},
   "outputs": [],
   "source": []
  }
 ],
 "metadata": {
  "kernelspec": {
   "display_name": "Python 3 (ipykernel)",
   "language": "python",
   "name": "python3"
  },
  "language_info": {
   "codemirror_mode": {
    "name": "ipython",
    "version": 3
   },
   "file_extension": ".py",
   "mimetype": "text/x-python",
   "name": "python",
   "nbconvert_exporter": "python",
   "pygments_lexer": "ipython3",
   "version": "3.10.9"
  }
 },
 "nbformat": 4,
 "nbformat_minor": 5
}
