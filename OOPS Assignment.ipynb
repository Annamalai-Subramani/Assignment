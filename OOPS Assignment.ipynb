{
 "cells": [
  {
   "cell_type": "markdown",
   "id": "656e2f5a",
   "metadata": {},
   "source": [
    "# Oops Assignment-1\n",
    "# question-1\n",
    "What is the primary goal of Object-Oriented Programming (OOP)?"
   ]
  },
  {
   "cell_type": "markdown",
   "id": "c810cd33",
   "metadata": {},
   "source": [
    "The primary goal of Object-Oriented Programming (OOP) is to model real-world entities and their interactions in software through the use of objects, encapsulation, abstraction, inheritance, and polymorphism, resulting in more organized, reusable, and maintainable code.\n",
    "\n",
    "1)Encapsulation: OOP encourages encapsulating data (attributes or properties) and the methods (functions or procedures) that operate on that data within a single unit called an \"object.\"\n",
    "\n",
    "2)Abstraction: Abstraction is the process of simplifying complex systems by breaking them down into smaller, more manageable components. In OOP, classes serve as blueprints or templates for creating objects.\n",
    "\n",
    "3)Inheritance: Inheritance is a mechanism that allows you to create new classes (derived or child classes) based on existing classes (base or parent classes).\n",
    "\n",
    "4)Polymorphism: Polymorphism enables objects of different classes to be treated as instances of a common base class. "
   ]
  },
  {
   "cell_type": "markdown",
   "id": "766166f2",
   "metadata": {},
   "source": [
    "# question-2\n",
    "What is an object in Python?"
   ]
  },
  {
   "cell_type": "markdown",
   "id": "f0d234bc",
   "metadata": {},
   "source": [
    "In Python, an object is a fundamental unit of data that represents real-world entities, values, or concepts. Every variable, data structure, and function in Python is an object. Objects have attributes and methods associated with them, and they are instances of classes, which serve as blueprints for their structure and behavior."
   ]
  },
  {
   "cell_type": "code",
   "execution_count": 1,
   "id": "803aa815",
   "metadata": {},
   "outputs": [
    {
     "name": "stdout",
     "output_type": "stream",
     "text": [
      "Toyota\n",
      "2023\n",
      "The 2022 Toyota Camry's engine is now running.\n",
      "The 2023 Ford Mustang's engine is now running.\n"
     ]
    }
   ],
   "source": [
    "# Creating a simple class called 'Car'\n",
    "class Car:\n",
    "    def __init__(self, make, model, year):\n",
    "        self.make = make\n",
    "        self.model = model\n",
    "        self.year = year\n",
    "    \n",
    "    def start_engine(self):\n",
    "        print(f\"The {self.year} {self.make} {self.model}'s engine is now running.\")\n",
    "\n",
    "# Creating instances (objects) of the 'Car' class\n",
    "car1 = Car(\"Toyota\", \"Camry\", 2022)\n",
    "car2 = Car(\"Ford\", \"Mustang\", 2023)\n",
    "\n",
    "# Accessing attributes\n",
    "print(car1.make)       \n",
    "print(car2.year)      \n",
    "\n",
    "# Calling a method\n",
    "car1.start_engine()    \n",
    "car2.start_engine()    "
   ]
  },
  {
   "cell_type": "markdown",
   "id": "f943c695",
   "metadata": {},
   "source": [
    "# question-3\n",
    "What is a class in Python?"
   ]
  },
  {
   "cell_type": "markdown",
   "id": "a7d8f0fa",
   "metadata": {},
   "source": [
    "A class in Python is a blueprint or template for creating objects. It defines the structure and behavior of objects, including attributes (data) and methods (functions) that operate on the data."
   ]
  },
  {
   "cell_type": "code",
   "execution_count": 2,
   "id": "f53f769f",
   "metadata": {},
   "outputs": [
    {
     "name": "stdout",
     "output_type": "stream",
     "text": [
      "Annamalai\n",
      "25\n",
      "Hi, I'm Annamalai, and I'm 25 years old.\n"
     ]
    }
   ],
   "source": [
    "class Student:\n",
    "    def __init__(self, name, age):\n",
    "        self.name = name\n",
    "        self.age = age\n",
    "\n",
    "    def introduce(self):\n",
    "        print(f\"Hi, I'm {self.name}, and I'm {self.age} years old.\")\n",
    "\n",
    "# Creating an instance (object) of the 'Student' class\n",
    "student1 = Student(\"Annamalai\", 25)\n",
    "\n",
    "# Accessing attributes and calling a method\n",
    "print(student1.name)      \n",
    "print(student1.age)        \n",
    "student1.introduce()     "
   ]
  },
  {
   "cell_type": "markdown",
   "id": "52a99af8",
   "metadata": {},
   "source": [
    "# question-4\n",
    "What are attributes and methods in a class?"
   ]
  },
  {
   "cell_type": "markdown",
   "id": "401368cf",
   "metadata": {},
   "source": [
    "Attributes in a class are variables that store data specific to objects created from that class. Methods are functions defined within the class that perform actions or computations on the object's data."
   ]
  },
  {
   "cell_type": "code",
   "execution_count": 6,
   "id": "37552d7f",
   "metadata": {},
   "outputs": [],
   "source": [
    "class Person:\n",
    "    def __init__(self, name, age):\n",
    "        self.name = name  # 'name' is an attribute\n",
    "        self.age = age    # 'age' is an attribute\n",
    "    \n",
    "    def greet(self):\n",
    "        print(f\"Hi, I'm {self.name}, and I'm {self.age} years old.\")  # 'greet' is a method\n"
   ]
  },
  {
   "cell_type": "code",
   "execution_count": 7,
   "id": "9513128c",
   "metadata": {},
   "outputs": [
    {
     "name": "stdout",
     "output_type": "stream",
     "text": [
      "Hi, I'm Annamalai, and I'm 25 years old.\n"
     ]
    }
   ],
   "source": [
    "a = Person('Annamalai', 25)\n",
    "a.greet()"
   ]
  },
  {
   "cell_type": "markdown",
   "id": "b6f7b1d9",
   "metadata": {},
   "source": [
    "# question-5\n",
    "What is the difference between class variables and instance variables in Python?"
   ]
  },
  {
   "cell_type": "markdown",
   "id": "cb519ef5",
   "metadata": {},
   "source": [
    "1)Class Variables:\n",
    "Shared Among All Instances: Class variables are shared among all instances of a class and belong to the class itself. Changes to class variables affect all instances.\n",
    "\n",
    "\n",
    "2)Instance Variables:\n",
    "Specific to Each Instance: Instance variables are unique to each instance of a class and store data specific to that instance."
   ]
  },
  {
   "cell_type": "code",
   "execution_count": 8,
   "id": "9b9a61bd",
   "metadata": {},
   "outputs": [
    {
     "name": "stdout",
     "output_type": "stream",
     "text": [
      "Canis familiaris\n",
      "Canis familiaris\n"
     ]
    }
   ],
   "source": [
    "# class variable\n",
    "\n",
    "class Dog:\n",
    "    species = \"Canis familiaris\"  # Class variable\n",
    "\n",
    "dog1 = Dog()\n",
    "dog2 = Dog()\n",
    "\n",
    "print(dog1.species)  \n",
    "print(dog2.species) "
   ]
  },
  {
   "cell_type": "code",
   "execution_count": 9,
   "id": "8177b43d",
   "metadata": {},
   "outputs": [
    {
     "name": "stdout",
     "output_type": "stream",
     "text": [
      "Buddy\n",
      "Max\n"
     ]
    }
   ],
   "source": [
    "# Instance variable\n",
    "class Dog:\n",
    "    def __init__(self, name):\n",
    "        self.name = name  # Instance variable\n",
    "\n",
    "dog1 = Dog(\"Buddy\")\n",
    "dog2 = Dog(\"Max\")\n",
    "\n",
    "print(dog1.name)  \n",
    "print(dog2.name)"
   ]
  },
  {
   "cell_type": "markdown",
   "id": "6daae3a3",
   "metadata": {},
   "source": [
    "# question-6\n",
    "What is the purpose of the self parameter in Python class methods?"
   ]
  },
  {
   "cell_type": "markdown",
   "id": "aa76241c",
   "metadata": {},
   "source": [
    "The self parameter in Python class methods refers to the instance of the class and allows you to access and manipulate instance-specific attributes and methods."
   ]
  },
  {
   "cell_type": "code",
   "execution_count": 10,
   "id": "47150f3f",
   "metadata": {},
   "outputs": [
    {
     "name": "stdout",
     "output_type": "stream",
     "text": [
      "Buddy\n",
      "Buddy says Woof!\n"
     ]
    }
   ],
   "source": [
    "class Dog:\n",
    "    def __init__(self, name):\n",
    "        self.name = name\n",
    "\n",
    "    def bark(self):\n",
    "        print(f\"{self.name} says Woof!\")\n",
    "\n",
    "# Creating an instance of the 'Dog' class\n",
    "my_dog = Dog(\"Buddy\")\n",
    "\n",
    "# Accessing an attribute and calling a method using 'self'\n",
    "print(my_dog.name) \n",
    "my_dog.bark()       "
   ]
  },
  {
   "cell_type": "markdown",
   "id": "4e2b06b7",
   "metadata": {},
   "source": [
    "# question-7\n",
    "For a library management system, you have to design the \"Book\" class with OOP\n",
    "principles in mind. The “Book” class will have following attributes:\n",
    "a. title: Represents the title of the book.\n",
    "b. author: Represents the author(s) of the book.\n",
    "c. isbn: Represents the ISBN (International Standard Book Number) of the book.\n",
    "d. publication_year: Represents the year of publication of the book.\n",
    "e. available_copies: Represents the number of copies available for checkout.\n",
    "The class will also include the following methods:\n",
    "a. check_out(self): Decrements the available copies by one if there are copies\n",
    "available for checkout.\n",
    "b. return_book(self): Increments the available copies by one when a book is\n",
    "returned.\n",
    "c. display_book_info(self): Displays the information about the book, including its\n",
    "attributes and the number of available copies."
   ]
  },
  {
   "cell_type": "code",
   "execution_count": 11,
   "id": "3e8f1230",
   "metadata": {},
   "outputs": [
    {
     "name": "stdout",
     "output_type": "stream",
     "text": [
      "Python Crash Course has been checked out.\n",
      "Book Information:\n",
      "Title: Python Crash Course\n",
      "Author: Eric Matthes\n",
      "ISBN: 978-1593276034\n",
      "Publication Year: 2015\n",
      "Available Copies: 4\n",
      "Thank you for returning Python Crash Course.\n",
      "Book Information:\n",
      "Title: Python Crash Course\n",
      "Author: Eric Matthes\n",
      "ISBN: 978-1593276034\n",
      "Publication Year: 2015\n",
      "Available Copies: 5\n"
     ]
    }
   ],
   "source": [
    "class Book:\n",
    "    def __init__(self, title, author, isbn, publication_year, available_copies):\n",
    "        self.title = title\n",
    "        self.author = author\n",
    "        self.isbn = isbn\n",
    "        self.publication_year = publication_year\n",
    "        self.available_copies = available_copies\n",
    "\n",
    "    def check_out(self):\n",
    "        if self.available_copies > 0:\n",
    "            self.available_copies -= 1\n",
    "            print(f\"{self.title} has been checked out.\")\n",
    "        else:\n",
    "            print(f\"Sorry, no copies of {self.title} are available for checkout.\")\n",
    "\n",
    "    def return_book(self):\n",
    "        self.available_copies += 1\n",
    "        print(f\"Thank you for returning {self.title}.\")\n",
    "\n",
    "    def display_book_info(self):\n",
    "        print(\"Book Information:\")\n",
    "        print(f\"Title: {self.title}\")\n",
    "        print(f\"Author: {self.author}\")\n",
    "        print(f\"ISBN: {self.isbn}\")\n",
    "        print(f\"Publication Year: {self.publication_year}\")\n",
    "        print(f\"Available Copies: {self.available_copies}\")\n",
    "\n",
    "# Creating an instance of the 'Book' class\n",
    "book1 = Book(\"Python Crash Course\", \"Eric Matthes\", \"978-1593276034\", 2015, 5)\n",
    "\n",
    "# Checking out a book\n",
    "book1.check_out()\n",
    "\n",
    "# Displaying book information\n",
    "book1.display_book_info()\n",
    "\n",
    "# Returning a book\n",
    "book1.return_book()\n",
    "\n",
    "# Displaying updated book information\n",
    "book1.display_book_info()"
   ]
  },
  {
   "cell_type": "markdown",
   "id": "c84c3773",
   "metadata": {},
   "source": [
    "# question-8\n",
    "For a ticket booking system, you have to design the \"Ticket\" class with OOP\n",
    "principles in mind. The “Ticket” class should have the following attributes:\n",
    "a. ticket_id: Represents the unique identifier for the ticket.\n",
    "b. event_name: Represents the name of the event.\n",
    "c. event_date: Represents the date of the event.\n",
    "d. venue: Represents the venue of the event.\n",
    "e. seat_number: Represents the seat number associated with the ticket.\n",
    "f. price: Represents the price of the ticket.\n",
    "g. is_reserved: Represents the reservation status of the ticket.\n",
    "The class also includes the following methods:\n",
    "a. reserve_ticket(self): Marks the ticket as reserved if it is not already reserved.\n",
    "b. cancel_reservation(self): Cancels the reservation of the ticket if it is already\n",
    "reserved.\n",
    "c. display_ticket_info(self): Displays the information about the ticket, including its\n",
    "attributes and reservation status."
   ]
  },
  {
   "cell_type": "code",
   "execution_count": 12,
   "id": "1862d563",
   "metadata": {},
   "outputs": [
    {
     "name": "stdout",
     "output_type": "stream",
     "text": [
      "Ticket T12345 has been reserved.\n",
      "Ticket Information:\n",
      "Ticket ID: T12345\n",
      "Event Name: Concert\n",
      "Event Date: 2023-10-15\n",
      "Venue: City Arena\n",
      "Seat Number: A12\n",
      "Price: $50.0\n",
      "Reservation Status: Reserved\n",
      "Reservation for Ticket T12345 has been canceled.\n",
      "Ticket Information:\n",
      "Ticket ID: T12345\n",
      "Event Name: Concert\n",
      "Event Date: 2023-10-15\n",
      "Venue: City Arena\n",
      "Seat Number: A12\n",
      "Price: $50.0\n",
      "Reservation Status: Not Reserved\n"
     ]
    }
   ],
   "source": [
    "class Ticket:\n",
    "    def __init__(self, ticket_id, event_name, event_date, venue, seat_number, price):\n",
    "        self.ticket_id = ticket_id\n",
    "        self.event_name = event_name\n",
    "        self.event_date = event_date\n",
    "        self.venue = venue\n",
    "        self.seat_number = seat_number\n",
    "        self.price = price\n",
    "        self.is_reserved = False  # Initialize as not reserved\n",
    "\n",
    "    def reserve_ticket(self):\n",
    "        if not self.is_reserved:\n",
    "            self.is_reserved = True\n",
    "            print(f\"Ticket {self.ticket_id} has been reserved.\")\n",
    "        else:\n",
    "            print(f\"Ticket {self.ticket_id} is already reserved.\")\n",
    "\n",
    "    def cancel_reservation(self):\n",
    "        if self.is_reserved:\n",
    "            self.is_reserved = False\n",
    "            print(f\"Reservation for Ticket {self.ticket_id} has been canceled.\")\n",
    "        else:\n",
    "            print(f\"Ticket {self.ticket_id} is not reserved.\")\n",
    "\n",
    "    def display_ticket_info(self):\n",
    "        print(\"Ticket Information:\")\n",
    "        print(f\"Ticket ID: {self.ticket_id}\")\n",
    "        print(f\"Event Name: {self.event_name}\")\n",
    "        print(f\"Event Date: {self.event_date}\")\n",
    "        print(f\"Venue: {self.venue}\")\n",
    "        print(f\"Seat Number: {self.seat_number}\")\n",
    "        print(f\"Price: ${self.price}\")\n",
    "        if self.is_reserved:\n",
    "            print(\"Reservation Status: Reserved\")\n",
    "        else:\n",
    "            print(\"Reservation Status: Not Reserved\")\n",
    "\n",
    "# Creating an instance of the 'Ticket' class\n",
    "ticket1 = Ticket(\"T12345\", \"Concert\", \"2023-10-15\", \"City Arena\", \"A12\", 50.0)\n",
    "\n",
    "# Reserving a ticket\n",
    "ticket1.reserve_ticket()\n",
    "\n",
    "# Displaying ticket information\n",
    "ticket1.display_ticket_info()\n",
    "\n",
    "# Cancelling the reservation\n",
    "ticket1.cancel_reservation()\n",
    "\n",
    "# Displaying updated ticket information\n",
    "ticket1.display_ticket_info()\n"
   ]
  },
  {
   "cell_type": "markdown",
   "id": "62a2b0ca",
   "metadata": {},
   "source": [
    "# question-9\n",
    "You are creating a shopping cart for an e-commerce website. Using OOP to model\n",
    "the \"ShoppingCart\" functionality the class should contain following attributes and\n",
    "methods:\n",
    "a. items: Represents the list of items in the shopping cart.\n",
    "The class also includes the following methods:\n",
    "\n",
    "a. add_item(self, item): Adds an item to the shopping cart by appending it to the\n",
    "list of items.\n",
    "b. remove_item(self, item): Removes an item from the shopping cart if it exists in\n",
    "the list.\n",
    "c. view_cart(self): Displays the items currently present in the shopping cart.\n",
    "d. clear_cart(self): Clears all items from the shopping cart by reassigning an\n",
    "empty list to the items attribute."
   ]
  },
  {
   "cell_type": "code",
   "execution_count": 13,
   "id": "7fbbfb99",
   "metadata": {},
   "outputs": [
    {
     "name": "stdout",
     "output_type": "stream",
     "text": [
      "Item 1 has been added to the shopping cart.\n",
      "Item 2 has been added to the shopping cart.\n",
      "Items in the Shopping Cart:\n",
      "Item 1\n",
      "Item 2\n",
      "Item 1 has been removed from the shopping cart.\n",
      "The shopping cart has been cleared.\n",
      "Items in the Shopping Cart:\n"
     ]
    }
   ],
   "source": [
    "class ShoppingCart:\n",
    "    def __init__(self):\n",
    "        self.items = []  # Initialize an empty list for items\n",
    "\n",
    "    def add_item(self, item):\n",
    "        self.items.append(item)\n",
    "        print(f\"{item} has been added to the shopping cart.\")\n",
    "\n",
    "    def remove_item(self, item):\n",
    "        if item in self.items:\n",
    "            self.items.remove(item)\n",
    "            print(f\"{item} has been removed from the shopping cart.\")\n",
    "        else:\n",
    "            print(f\"{item} is not in the shopping cart.\")\n",
    "\n",
    "    def view_cart(self):\n",
    "        print(\"Items in the Shopping Cart:\")\n",
    "        for item in self.items:\n",
    "            print(item)\n",
    "\n",
    "    def clear_cart(self):\n",
    "        self.items = []  # Reassign an empty list to clear the cart\n",
    "        print(\"The shopping cart has been cleared.\")\n",
    "\n",
    "# Creating an instance of the 'ShoppingCart' class\n",
    "cart = ShoppingCart()\n",
    "\n",
    "# Adding items to the cart\n",
    "cart.add_item(\"Item 1\")\n",
    "cart.add_item(\"Item 2\")\n",
    "\n",
    "# Viewing the cart\n",
    "cart.view_cart()\n",
    "\n",
    "# Removing an item from the cart\n",
    "cart.remove_item(\"Item 1\")\n",
    "\n",
    "# Clearing the cart\n",
    "cart.clear_cart()\n",
    "\n",
    "# Viewing the empty cart\n",
    "cart.view_cart()"
   ]
  },
  {
   "cell_type": "markdown",
   "id": "2109f4c8",
   "metadata": {},
   "source": [
    "# question-10\n",
    "Imagine a school management system. You have to design the \"Student\" class using\n",
    "OOP concepts.The “Student” class has the following attributes:\n",
    "a. name: Represents the name of the student.\n",
    "b. age: Represents the age of the student.\n",
    "c. grade: Represents the grade or class of the student.\n",
    "d. student_id: Represents the unique identifier for the student.\n",
    "e. attendance: Represents the attendance record of the student.\n",
    "The class should also include the following methods:\n",
    "a. update_attendance(self, date, status): Updates the attendance record of the\n",
    "student for a given date with the provided status (e.g., present or absent).\n",
    "b. get_attendance(self): Returns the attendance record of the student.\n",
    "c. get_average_attendance(self): Calculates and returns the average\n",
    "attendance percentage of the student based on their attendance record."
   ]
  },
  {
   "cell_type": "code",
   "execution_count": 14,
   "id": "3f080b4a",
   "metadata": {},
   "outputs": [
    {
     "name": "stdout",
     "output_type": "stream",
     "text": [
      "Alice's Average Attendance: 66.66666666666666%\n"
     ]
    }
   ],
   "source": [
    "class Student:\n",
    "    def __init__(self, name, age, grade, student_id):\n",
    "        self.name = name\n",
    "        self.age = age\n",
    "        self.grade = grade\n",
    "        self.student_id = student_id\n",
    "        self.attendance = {}\n",
    "\n",
    "    def update_attendance(self, date, status):\n",
    "        self.attendance[date] = status\n",
    "\n",
    "    def get_average_attendance(self):\n",
    "        if not self.attendance:\n",
    "            return 0.0\n",
    "\n",
    "        total_days = len(self.attendance)\n",
    "        present_days = list(self.attendance.values()).count(\"present\")\n",
    "        return (present_days / total_days) * 100\n",
    "\n",
    "# Creating a student instance\n",
    "student1 = Student(\"Alice\", 16, \"11th grade\", \"S12345\")\n",
    "\n",
    "# Updating attendance\n",
    "student1.update_attendance(\"2023-09-01\", \"present\")\n",
    "student1.update_attendance(\"2023-09-02\", \"absent\")\n",
    "student1.update_attendance(\"2023-09-03\", \"present\")\n",
    "\n",
    "# Calculating average attendance\n",
    "average_attendance = student1.get_average_attendance()\n",
    "\n",
    "print(f\"{student1.name}'s Average Attendance: {average_attendance}%\")\n"
   ]
  },
  {
   "cell_type": "code",
   "execution_count": null,
   "id": "d44867c4",
   "metadata": {},
   "outputs": [],
   "source": []
  }
 ],
 "metadata": {
  "kernelspec": {
   "display_name": "Python 3 (ipykernel)",
   "language": "python",
   "name": "python3"
  },
  "language_info": {
   "codemirror_mode": {
    "name": "ipython",
    "version": 3
   },
   "file_extension": ".py",
   "mimetype": "text/x-python",
   "name": "python",
   "nbconvert_exporter": "python",
   "pygments_lexer": "ipython3",
   "version": "3.10.9"
  }
 },
 "nbformat": 4,
 "nbformat_minor": 5
}
