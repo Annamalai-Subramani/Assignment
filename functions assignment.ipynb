{
 "cells": [
  {
   "cell_type": "markdown",
   "id": "6a1dfcd5",
   "metadata": {},
   "source": [
    "# Functions Assignment\n",
    "# question-1\n",
    "What is a lambda function in Python, and how does it differ from a regular function?"
   ]
  },
  {
   "cell_type": "markdown",
   "id": "51968781",
   "metadata": {},
   "source": [
    "* A lambda function in Python is a small and anonymous function defined using the lambda keyword. \n",
    "* It is typically used for simple operations and can only have a single expression. \n",
    "* It differs from a regular function in that it doesn't have a name, has a more concise syntax, and is often used for one-time or inline functions."
   ]
  },
  {
   "cell_type": "code",
   "execution_count": 3,
   "id": "c2130e6d",
   "metadata": {},
   "outputs": [
    {
     "name": "stdout",
     "output_type": "stream",
     "text": [
      "4\n"
     ]
    }
   ],
   "source": [
    "a = lambda x : print(x) if x % 2 == 0 else None\n",
    "a(4)\n",
    "a(5)"
   ]
  },
  {
   "cell_type": "markdown",
   "id": "be16b8da",
   "metadata": {},
   "source": [
    "# question-2\n",
    "Can a lambda function in Python have multiple arguments? If yes, how can you define and use them?\n",
    "\n",
    "Yes, a lambda function in Python can have multiple arguments. You can define and use multiple arguments in a lambda function by separating them with commas. "
   ]
  },
  {
   "cell_type": "code",
   "execution_count": 4,
   "id": "6d9877b4",
   "metadata": {},
   "outputs": [
    {
     "data": {
      "text/plain": [
       "15"
      ]
     },
     "execution_count": 4,
     "metadata": {},
     "output_type": "execute_result"
    }
   ],
   "source": [
    "add = lambda x , y : x + y\n",
    "\n",
    "a = add(6,9)\n",
    "a"
   ]
  },
  {
   "cell_type": "markdown",
   "id": "51eb4bb6",
   "metadata": {},
   "source": [
    "# question-3\n",
    "How are lambda functions typically used in Python? Provide an example use case.\n",
    "\n",
    "* Lambda functions in Python are typically used in scenarios where a small and simple function is needed, such as:\n",
    "\n",
    "* Providing a concise function as an argument to another function (e.g., sorting, filtering).\n",
    "* Performing operations on iterable objects (e.g., mapping, filtering).\n",
    "* Defining short-lived or one-time use functions."
   ]
  },
  {
   "cell_type": "code",
   "execution_count": 6,
   "id": "f5a5e6dc",
   "metadata": {},
   "outputs": [
    {
     "name": "stdout",
     "output_type": "stream",
     "text": [
      "[('Charlie', 20), ('Alice', 25), ('Bob', 30), ('David', 35)]\n",
      "[1, 4, 9, 16, 25]\n"
     ]
    }
   ],
   "source": [
    "# sorting operation\n",
    "people = [('Alice', 25), ('Bob', 30), ('Charlie', 20), ('David', 35)]\n",
    "sorted_people = sorted(people, key=lambda person: person[1])\n",
    "\n",
    "print(sorted_people)\n",
    "\n",
    "\n",
    "# map()\n",
    "numbers = [1, 2, 3, 4, 5]\n",
    "squared_numbers = list(map(lambda x: x ** 2, numbers))\n",
    "\n",
    "print(squared_numbers)"
   ]
  },
  {
   "cell_type": "markdown",
   "id": "3102bd9e",
   "metadata": {},
   "source": [
    "# question-4\n",
    "What are the advantages and limitations of lambda functions compared to regular functions in Python?"
   ]
  },
  {
   "cell_type": "markdown",
   "id": "a01c6cc7",
   "metadata": {},
   "source": [
    "Advantages of Lambda Functions:\n",
    "\n",
    "* Concise and compact syntax.\n",
    "* Anonymous nature is suitable for one-time or inline use.\n",
    "* Simplify function definitions and keep logic closer to usage.\n",
    "\n",
    "Limitations of Lambda Functions:\n",
    "\n",
    "* Limited to a single expression, cannot have multiple statements or complex logic.\n",
    "* Not suitable for extensive tasks requiring advanced features.\n",
    "* Lack of name makes reuse or referencing difficult. Regular functions are better for reusability."
   ]
  },
  {
   "cell_type": "markdown",
   "id": "21bebedc",
   "metadata": {},
   "source": [
    "# question-5\n",
    "Are lambda functions in Python able to access variables defined outside of their own scope? Explain with an example.\n",
    "\n",
    "Yes, lambda functions in Python can access variables defined outside of their own scope."
   ]
  },
  {
   "cell_type": "code",
   "execution_count": 8,
   "id": "9b864588",
   "metadata": {},
   "outputs": [
    {
     "name": "stdout",
     "output_type": "stream",
     "text": [
      "9\n"
     ]
    }
   ],
   "source": [
    "def fun():\n",
    "    x = 6\n",
    "    lam_fun = lambda y : x + y\n",
    "    return lam_fun\n",
    "\n",
    "my_lam = fun()\n",
    "result = my_lam(3)\n",
    "print(result)"
   ]
  },
  {
   "cell_type": "markdown",
   "id": "cf384d1f",
   "metadata": {},
   "source": [
    "# question-6\n",
    "\n",
    "Write a lambda function to calculate the square of a given number."
   ]
  },
  {
   "cell_type": "code",
   "execution_count": 9,
   "id": "f2eb3186",
   "metadata": {},
   "outputs": [
    {
     "name": "stdout",
     "output_type": "stream",
     "text": [
      "36\n"
     ]
    }
   ],
   "source": [
    "square = lambda x : x ** 2\n",
    "\n",
    "result = square(6)\n",
    "print(result)"
   ]
  },
  {
   "cell_type": "markdown",
   "id": "d374c99b",
   "metadata": {},
   "source": [
    "# question-7\n",
    "\n",
    "Create a lambda function to find the maximum value in a list of integers."
   ]
  },
  {
   "cell_type": "code",
   "execution_count": 10,
   "id": "f345fad3",
   "metadata": {},
   "outputs": [
    {
     "name": "stdout",
     "output_type": "stream",
     "text": [
      "9\n"
     ]
    }
   ],
   "source": [
    "numbers = [5, 9, 3, 1, 7]\n",
    "\n",
    "max_value = lambda x: max(x)\n",
    "\n",
    "result = max_value(numbers)\n",
    "print(result)"
   ]
  },
  {
   "cell_type": "code",
   "execution_count": 14,
   "id": "27a6f6ba",
   "metadata": {},
   "outputs": [
    {
     "name": "stdout",
     "output_type": "stream",
     "text": [
      "199\n"
     ]
    }
   ],
   "source": [
    "numbers = [5, 9, 3, 1, 7, 98, 199]\n",
    "\n",
    "max_value = max(filter(lambda x: x, numbers))\n",
    "\n",
    "print(max_value)"
   ]
  },
  {
   "cell_type": "markdown",
   "id": "15b860d4",
   "metadata": {},
   "source": [
    "# question-8\n",
    "\n",
    "Implement a lambda function to filter out all the even numbers from a list of integers.\n"
   ]
  },
  {
   "cell_type": "code",
   "execution_count": 15,
   "id": "006bb34b",
   "metadata": {},
   "outputs": [
    {
     "name": "stdout",
     "output_type": "stream",
     "text": [
      "[2, 4, 6, 8, 10]\n"
     ]
    }
   ],
   "source": [
    "numbers = [1, 2, 3, 4, 5, 6, 7, 8, 9, 10]\n",
    "\n",
    "even_numbers = list(filter(lambda x: x % 2 == 0, numbers))\n",
    "\n",
    "print(even_numbers)"
   ]
  },
  {
   "cell_type": "markdown",
   "id": "7eb5ed22",
   "metadata": {},
   "source": [
    "# question-9\n",
    "\n",
    "Write a lambda function to sort a list of strings in ascending order based on the length of each string."
   ]
  },
  {
   "cell_type": "code",
   "execution_count": 16,
   "id": "f0391fbc",
   "metadata": {},
   "outputs": [
    {
     "name": "stdout",
     "output_type": "stream",
     "text": [
      "['date', 'apple', 'guava', 'banana', 'cherry', 'elderberry', 'strawberry']\n"
     ]
    }
   ],
   "source": [
    "strings = ['apple', 'banana', 'cherry', 'date', 'elderberry', 'strawberry', 'guava']\n",
    "\n",
    "sorted_strings = sorted(strings, key=lambda s: len(s))\n",
    "\n",
    "print(sorted_strings)"
   ]
  },
  {
   "cell_type": "markdown",
   "id": "dd23c79d",
   "metadata": {},
   "source": [
    "# question-10\n",
    "Create a lambda function that takes two lists as input and returns a new list containing the common elements between the two lists."
   ]
  },
  {
   "cell_type": "code",
   "execution_count": 17,
   "id": "41a41621",
   "metadata": {},
   "outputs": [
    {
     "name": "stdout",
     "output_type": "stream",
     "text": [
      "[1, 4, 5, 12, 7, 8]\n"
     ]
    }
   ],
   "source": [
    "list1 = [1, 2, 3, 4, 5, 12, 45, 31, 7, 8]\n",
    "list2 = [4, 5, 6, 7, 8, 12, 1]\n",
    "\n",
    "common_elements = list(filter(lambda x: x in list2, list1))\n",
    "\n",
    "print(common_elements)"
   ]
  },
  {
   "cell_type": "markdown",
   "id": "2d8c15cf",
   "metadata": {},
   "source": [
    "# question-11\n",
    "\n",
    "Write a recursive function to calculate the factorial of a given positive integer."
   ]
  },
  {
   "cell_type": "code",
   "execution_count": 18,
   "id": "77b60fb0",
   "metadata": {},
   "outputs": [
    {
     "data": {
      "text/plain": [
       "120"
      ]
     },
     "execution_count": 18,
     "metadata": {},
     "output_type": "execute_result"
    }
   ],
   "source": [
    "def factorial(n):\n",
    "    if n == 0:\n",
    "        return 1\n",
    "    else:\n",
    "        return n * factorial(n - 1)\n",
    "    \n",
    "factorial(5)    "
   ]
  },
  {
   "cell_type": "markdown",
   "id": "3983974d",
   "metadata": {},
   "source": [
    "# question-12\n",
    "\n",
    "Implement a recursive function to compute the nth Fibonacci number.\n"
   ]
  },
  {
   "cell_type": "code",
   "execution_count": 19,
   "id": "f66af5e6",
   "metadata": {},
   "outputs": [
    {
     "data": {
      "text/plain": [
       "13"
      ]
     },
     "execution_count": 19,
     "metadata": {},
     "output_type": "execute_result"
    }
   ],
   "source": [
    "def fibonacci(n):\n",
    "    if n <= 1:\n",
    "        return n\n",
    "    else:\n",
    "        return fibonacci(n - 1) + fibonacci(n - 2)\n",
    "    \n",
    "fibonacci(7)    "
   ]
  },
  {
   "cell_type": "markdown",
   "id": "61a6c299",
   "metadata": {},
   "source": [
    "# question-13\n",
    "\n",
    "Create a recursive function to find the sum of all the elements in a given list."
   ]
  },
  {
   "cell_type": "code",
   "execution_count": 24,
   "id": "5fb08108",
   "metadata": {},
   "outputs": [
    {
     "name": "stdout",
     "output_type": "stream",
     "text": [
      "15\n"
     ]
    }
   ],
   "source": [
    "def recursive_sum(x):\n",
    "    if not x:\n",
    "        return 0\n",
    "    else:\n",
    "        return x[0] + recursive_sum(x[1:])\n",
    "    \n",
    "    \n",
    "numbers = [1, 2, 3, 4, 5]\n",
    "result = recursive_sum(numbers)\n",
    "print(result)"
   ]
  },
  {
   "cell_type": "markdown",
   "id": "64193ecc",
   "metadata": {},
   "source": [
    "# question-14\n",
    "\n",
    "Write a recursive function to determine whether a given string is a palindrome."
   ]
  },
  {
   "cell_type": "code",
   "execution_count": 25,
   "id": "4126e3b8",
   "metadata": {},
   "outputs": [
    {
     "name": "stdout",
     "output_type": "stream",
     "text": [
      "True\n",
      "False\n"
     ]
    }
   ],
   "source": [
    "def is_palindrome(string):\n",
    "    if len(string) <= 1:\n",
    "        return True\n",
    "    else:\n",
    "        if string[0] != string[-1]:\n",
    "            return False\n",
    "        else:\n",
    "            return is_palindrome(string[1:-1])\n",
    "        \n",
    "string1 = \"madam\"\n",
    "result1 = is_palindrome(string1)\n",
    "print(result1)  \n",
    "\n",
    "string2 = \"hello\"\n",
    "result2 = is_palindrome(string2)\n",
    "print(result2)         "
   ]
  },
  {
   "cell_type": "markdown",
   "id": "6c77ae61",
   "metadata": {},
   "source": [
    "# question-15\n",
    "\n",
    "Implement a recursive function to find the greatest common divisor (GCD) of two positive integers."
   ]
  },
  {
   "cell_type": "code",
   "execution_count": 30,
   "id": "805a06b7",
   "metadata": {},
   "outputs": [
    {
     "name": "stdout",
     "output_type": "stream",
     "text": [
      "12\n"
     ]
    }
   ],
   "source": [
    "def gcd(a, b):\n",
    "    if b == 0:\n",
    "        return a\n",
    "    else:\n",
    "        return gcd(b, a % b)\n",
    "    \n",
    "num1 = 36\n",
    "num2 = 48\n",
    "result = gcd(num1, num2)\n",
    "print(result)      "
   ]
  },
  {
   "cell_type": "code",
   "execution_count": null,
   "id": "864f4b29",
   "metadata": {},
   "outputs": [],
   "source": []
  }
 ],
 "metadata": {
  "kernelspec": {
   "display_name": "Python 3 (ipykernel)",
   "language": "python",
   "name": "python3"
  },
  "language_info": {
   "codemirror_mode": {
    "name": "ipython",
    "version": 3
   },
   "file_extension": ".py",
   "mimetype": "text/x-python",
   "name": "python",
   "nbconvert_exporter": "python",
   "pygments_lexer": "ipython3",
   "version": "3.10.9"
  }
 },
 "nbformat": 4,
 "nbformat_minor": 5
}
