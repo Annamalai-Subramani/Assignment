{
 "cells": [
  {
   "cell_type": "markdown",
   "id": "dbc1667e",
   "metadata": {},
   "source": [
    "# Assignment-8\n",
    "# question-1\n",
    "In Python, what is the difference between a built-in function and a user-defined function? Provide an example of each."
   ]
  },
  {
   "cell_type": "markdown",
   "id": "995daf16",
   "metadata": {},
   "source": [
    "* a built-in function refers to a function that is provided by the Python programming language itself. These functions are readily available for use without the need for any additional imports or external libraries. On the other hand, a user-defined function is created and defined by a user to perform a specific task.\n",
    "\n",
    "* The main difference between a built-in function and a user-defined function in Python is that built-in functions are provided by the Python language itself, while user-defined functions are created by users to perform specific tasks based on their needs."
   ]
  },
  {
   "cell_type": "code",
   "execution_count": 5,
   "id": "1a54f8b0",
   "metadata": {},
   "outputs": [
    {
     "name": "stdout",
     "output_type": "stream",
     "text": [
      "13\n",
      "5.8\n"
     ]
    }
   ],
   "source": [
    "# built-in function\n",
    "\n",
    "a = 'hello ineuron'\n",
    "print(len(a))\n",
    "\n",
    "\n",
    "# user defined function\n",
    "\n",
    "def avg(numbers):\n",
    "    total = sum(numbers)\n",
    "    count = len(numbers)\n",
    "    average = total / count\n",
    "    return average\n",
    "\n",
    "num_list = [1, 3, 5, 8, 12]\n",
    "average = avg(num_list)\n",
    "print(average)"
   ]
  },
  {
   "cell_type": "markdown",
   "id": "9ee186ae",
   "metadata": {},
   "source": [
    "# question-2\n",
    "How can you pass arguments to a function in Python? Explain the difference between positional arguments and keyword arguments."
   ]
  },
  {
   "cell_type": "markdown",
   "id": "620a8c84",
   "metadata": {},
   "source": [
    "* Positional arguments are passed to a function based on their position in the function call and are matched to parameters in the function definition based on their order.\n",
    "\n",
    "* Keyword arguments are passed to a function by specifying the parameter name along with the corresponding value, allowing you to pass arguments in any order."
   ]
  },
  {
   "cell_type": "code",
   "execution_count": 2,
   "id": "0513fb0e",
   "metadata": {},
   "outputs": [
    {
     "name": "stdout",
     "output_type": "stream",
     "text": [
      "Hello mom !\n",
      "You are 45 years old.\n",
      "Hello dad !\n",
      "You are 48 years old.\n"
     ]
    }
   ],
   "source": [
    "# positional arguments call the function with the order\n",
    "\n",
    "def fun(name, age):\n",
    "    print(\"Hello\", name, \"!\")\n",
    "    print(\"You are\", age, \"years old.\")\n",
    "\n",
    "fun(\"mom\", 45)\n",
    "\n",
    "\n",
    "# keyword arguments call the function with name at any order\n",
    "\n",
    "def fun(name, age):\n",
    "    print(\"Hello\", name, \"!\")\n",
    "    print(\"You are\", age, \"years old.\")\n",
    "\n",
    "fun(age = 48, name = 'dad')"
   ]
  },
  {
   "cell_type": "markdown",
   "id": "3b653a2b",
   "metadata": {},
   "source": [
    "# question-3\n",
    "What is the purpose of the return statement in a function? Can a function have multiple return statements? Explain with an example."
   ]
  },
  {
   "cell_type": "markdown",
   "id": "43791c58",
   "metadata": {},
   "source": [
    "The purpose of the return statement in a function is to specify the value that the function should produce as its output. Yes, a function can have multiple return statements, which allow different values to be returned based on specific conditions or control flow."
   ]
  },
  {
   "cell_type": "code",
   "execution_count": 4,
   "id": "905a11cb",
   "metadata": {},
   "outputs": [
    {
     "name": "stdout",
     "output_type": "stream",
     "text": [
      "-5\n",
      "9\n"
     ]
    }
   ],
   "source": [
    "def absolute_value(number):\n",
    "    if number < 0:\n",
    "        return number\n",
    "    elif number < 10:\n",
    "        return number\n",
    "    else:\n",
    "        return number\n",
    "\n",
    "result1 = absolute_value(-5)\n",
    "result2 = absolute_value(9)\n",
    "\n",
    "print(result1)  \n",
    "print(result2)  "
   ]
  },
  {
   "cell_type": "markdown",
   "id": "1c583f26",
   "metadata": {},
   "source": [
    "# question-4\n",
    "What are lambda functions in Python? How are they different from regular functions? Provide an example where a lambda function can be useful."
   ]
  },
  {
   "cell_type": "markdown",
   "id": "651642f5",
   "metadata": {},
   "source": [
    "* Lambda functions in Python are anonymous functions that can be defined without a name. They are used for short and simple functions that are needed temporarily.\n",
    "* Lambda functions are useful in functional programming and as arguments to higher-order functions like map(), filter(), and reduce(). "
   ]
  },
  {
   "cell_type": "code",
   "execution_count": 5,
   "id": "cb426243",
   "metadata": {},
   "outputs": [
    {
     "data": {
      "text/plain": [
       "72"
      ]
     },
     "execution_count": 5,
     "metadata": {},
     "output_type": "execute_result"
    }
   ],
   "source": [
    "multiply = lambda x, y : x * y\n",
    "\n",
    "multiply(8,9)"
   ]
  },
  {
   "cell_type": "markdown",
   "id": "3ae58a78",
   "metadata": {},
   "source": [
    "# question-5\n",
    "\n",
    "How does the concept of \"scope\" apply to functions in Python? Explain the difference between local scope and global scope."
   ]
  },
  {
   "cell_type": "markdown",
   "id": "80473472",
   "metadata": {},
   "source": [
    "* Local Scope (Function Scope): Variables defined within a function are considered to have local scope. They are accessible only within the function and are destroyed when the function finishes executing.\n",
    "\n",
    "* Global Scope: Variables defined outside of any function have global scope. They are accessible throughout the entire program, including inside functions."
   ]
  },
  {
   "cell_type": "code",
   "execution_count": 7,
   "id": "10746ced",
   "metadata": {},
   "outputs": [
    {
     "name": "stdout",
     "output_type": "stream",
     "text": [
      "10\n"
     ]
    },
    {
     "ename": "NameError",
     "evalue": "name 'x' is not defined",
     "output_type": "error",
     "traceback": [
      "\u001b[1;31m---------------------------------------------------------------------------\u001b[0m",
      "\u001b[1;31mNameError\u001b[0m                                 Traceback (most recent call last)",
      "Cell \u001b[1;32mIn[7], line 8\u001b[0m\n\u001b[0;32m      5\u001b[0m     \u001b[38;5;28mprint\u001b[39m(x)  \u001b[38;5;66;03m# Accessible within the function\u001b[39;00m\n\u001b[0;32m      7\u001b[0m my_function()\n\u001b[1;32m----> 8\u001b[0m \u001b[38;5;28mprint\u001b[39m(\u001b[43mx\u001b[49m)\n",
      "\u001b[1;31mNameError\u001b[0m: name 'x' is not defined"
     ]
    }
   ],
   "source": [
    "# local scope\n",
    "\n",
    "def my_function():\n",
    "    x = 10  # Local variable\n",
    "    print(x)  \n",
    "\n",
    "my_function()\n",
    "print(x)  "
   ]
  },
  {
   "cell_type": "code",
   "execution_count": 8,
   "id": "bd6856eb",
   "metadata": {},
   "outputs": [
    {
     "name": "stdout",
     "output_type": "stream",
     "text": [
      "10\n",
      "10\n"
     ]
    }
   ],
   "source": [
    "# global scope\n",
    "\n",
    "x = 10  # Global variable\n",
    "\n",
    "def my_function():\n",
    "    print(x)  \n",
    "\n",
    "my_function()\n",
    "print(x)"
   ]
  },
  {
   "cell_type": "markdown",
   "id": "e3ecdca7",
   "metadata": {},
   "source": [
    "# question-6\n",
    "How can you use the \"return\" statement in a Python function to return multiple values?\n"
   ]
  },
  {
   "cell_type": "code",
   "execution_count": 9,
   "id": "50d6e8eb",
   "metadata": {},
   "outputs": [
    {
     "name": "stdout",
     "output_type": "stream",
     "text": [
      "(10, 20, 30)\n",
      "[10, 20, 30]\n",
      "{'value1': 10, 'value2': 20, 'value3': 30}\n"
     ]
    }
   ],
   "source": [
    "# tuple\n",
    "\n",
    "def get_values():\n",
    "    a = 10\n",
    "    b = 20\n",
    "    c = 30\n",
    "    return a, b, c\n",
    "\n",
    "result = get_values()\n",
    "print(result)\n",
    "\n",
    "\n",
    "# list\n",
    "\n",
    "def get_values():\n",
    "    a = 10\n",
    "    b = 20\n",
    "    c = 30\n",
    "    return [a, b, c]\n",
    "\n",
    "result = get_values()\n",
    "print(result) \n",
    "\n",
    "\n",
    "# dictionery\n",
    "\n",
    "def get_values():\n",
    "    a = 10\n",
    "    b = 20\n",
    "    c = 30\n",
    "    return {'value1': a, 'value2': b, 'value3': c}\n",
    "\n",
    "result = get_values()\n",
    "print(result)"
   ]
  },
  {
   "cell_type": "markdown",
   "id": "f261a524",
   "metadata": {},
   "source": [
    "# question-7\n",
    "What is the difference between the \"pass by value\" and \"pass by reference\" concepts when it comes to function arguments in Python?"
   ]
  },
  {
   "cell_type": "markdown",
   "id": "1514bba0",
   "metadata": {},
   "source": [
    "* Immutable Objects (Pass by Value):\n",
    "Immutable objects, such as numbers, strings, and tuples, are passed by value. Modifying the argument within the function creates a new object and does not affect the original value outside the function.\n",
    "\n",
    "\n",
    "* Mutable Objects (Pass by Reference):\n",
    "Mutable objects, such as lists, dictionaries, and custom objects, are passed by reference. Modifying the argument within the function affects the original value outside the function."
   ]
  },
  {
   "cell_type": "code",
   "execution_count": 10,
   "id": "d3991f50",
   "metadata": {},
   "outputs": [
    {
     "name": "stdout",
     "output_type": "stream",
     "text": [
      "11\n",
      "10\n"
     ]
    }
   ],
   "source": [
    "# pass by value\n",
    "def modify_immutable(arg):\n",
    "    arg += 1\n",
    "    print(arg)\n",
    "\n",
    "x = 10\n",
    "modify_immutable(x)\n",
    "print(x)"
   ]
  },
  {
   "cell_type": "code",
   "execution_count": 11,
   "id": "cbef20f6",
   "metadata": {},
   "outputs": [
    {
     "name": "stdout",
     "output_type": "stream",
     "text": [
      "[1, 2, 3, 4]\n",
      "[1, 2, 3, 4]\n"
     ]
    }
   ],
   "source": [
    "# pass by reference\n",
    "\n",
    "def modify_mutable(arg):\n",
    "    arg.append(4)\n",
    "    print(arg)\n",
    "\n",
    "my_list = [1, 2, 3]\n",
    "modify_mutable(my_list)\n",
    "print(my_list) "
   ]
  },
  {
   "cell_type": "markdown",
   "id": "ace3a842",
   "metadata": {},
   "source": [
    "# question-8\n",
    "\n",
    "Create a function that can intake integer or decimal value and do following operations:\n",
    "a. Logarithmic function (log x)\n",
    "b. Exponential function (exp(x))\n",
    "c. Power function with base 2 (2\n",
    "x\n",
    ")\n",
    "d. Square root"
   ]
  },
  {
   "cell_type": "code",
   "execution_count": 14,
   "id": "bedd5d20",
   "metadata": {},
   "outputs": [
    {
     "name": "stdout",
     "output_type": "stream",
     "text": [
      "{'logarithmic': 3.58351893845611, 'exponential': 4311231547115195.0, 'power_base_2': 68719476736.0, 'square_root': 6.0}\n"
     ]
    }
   ],
   "source": [
    "import math\n",
    "\n",
    "def perform_operations(x):\n",
    "    result = {}\n",
    "    result['logarithmic'] = math.log(x)\n",
    "    result['exponential'] = math.exp(x)\n",
    "    result['power_base_2'] = math.pow(2, x)\n",
    "    result['square_root'] = math.sqrt(x)\n",
    "    return result\n",
    "\n",
    "\n",
    "number = 36\n",
    "operations_result = perform_operations(number)\n",
    "print(operations_result)"
   ]
  },
  {
   "cell_type": "markdown",
   "id": "1fd8d3b2",
   "metadata": {},
   "source": [
    "# question-9\n",
    "\n",
    "Create a function that takes a full name as an argument and returns first name and last name."
   ]
  },
  {
   "cell_type": "code",
   "execution_count": 18,
   "id": "0458ddae",
   "metadata": {},
   "outputs": [
    {
     "name": "stdout",
     "output_type": "stream",
     "text": [
      "First Name: virat\n",
      "Last Name: kholi\n"
     ]
    }
   ],
   "source": [
    "def extract_name(full_name):\n",
    "    first_name, last_name = full_name.split(maxsplit=1)\n",
    "    return first_name, last_name\n",
    "\n",
    "# Example usage:\n",
    "name = \"virat kholi\"\n",
    "first, last = extract_name(name)\n",
    "print(\"First Name:\", first)\n",
    "print(\"Last Name:\", last)"
   ]
  },
  {
   "cell_type": "code",
   "execution_count": null,
   "id": "6d17fc00",
   "metadata": {},
   "outputs": [],
   "source": []
  }
 ],
 "metadata": {
  "kernelspec": {
   "display_name": "Python 3 (ipykernel)",
   "language": "python",
   "name": "python3"
  },
  "language_info": {
   "codemirror_mode": {
    "name": "ipython",
    "version": 3
   },
   "file_extension": ".py",
   "mimetype": "text/x-python",
   "name": "python",
   "nbconvert_exporter": "python",
   "pygments_lexer": "ipython3",
   "version": "3.10.9"
  }
 },
 "nbformat": 4,
 "nbformat_minor": 5
}
