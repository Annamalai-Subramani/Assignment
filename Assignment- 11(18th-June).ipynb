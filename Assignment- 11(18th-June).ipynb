{
 "cells": [
  {
   "cell_type": "markdown",
   "id": "d15b8916",
   "metadata": {},
   "source": [
    "# Assignment- 11(18th-June)\n",
    "# question-1\n",
    "What is the role of the 'else' block in a try-except statement? Provide an example\n",
    "scenario where it would be useful."
   ]
  },
  {
   "cell_type": "markdown",
   "id": "7304f9d0",
   "metadata": {},
   "source": [
    "* The else block in a try-except statement is executed when no exceptions occur in the corresponding try block. \n",
    "* It allows you to define a set of statements that should run only if the try block completes successfully, without any exceptions being raised."
   ]
  },
  {
   "cell_type": "code",
   "execution_count": 1,
   "id": "c670f2bf",
   "metadata": {},
   "outputs": [
    {
     "name": "stdout",
     "output_type": "stream",
     "text": [
      "The division result is: 5.0\n",
      "Error: Cannot divide by zero!\n"
     ]
    }
   ],
   "source": [
    "def divide(a, b):\n",
    "    try:\n",
    "        result = a / b\n",
    "    except ZeroDivisionError:\n",
    "        print(\"Error: Cannot divide by zero!\")\n",
    "    else:\n",
    "        print(f\"The division result is: {result}\")\n",
    "\n",
    "divide(10, 2)  \n",
    "divide(10, 0)"
   ]
  },
  {
   "cell_type": "markdown",
   "id": "d26cd7cd",
   "metadata": {},
   "source": [
    "# question-2\n",
    "Can a try-except block be nested inside another try-except block? Explain with an\n",
    "example."
   ]
  },
  {
   "cell_type": "code",
   "execution_count": 11,
   "id": "195f2c43",
   "metadata": {},
   "outputs": [
    {
     "name": "stdout",
     "output_type": "stream",
     "text": [
      "Enter a number: a\n",
      "Invalid input! Please enter a valid number.\n"
     ]
    }
   ],
   "source": [
    "try:\n",
    "    x = int(input(\"Enter a number: \"))\n",
    "    try:\n",
    "        result = 10 / x\n",
    "        print(\"Result:\", result)\n",
    "    except ZeroDivisionError:\n",
    "        print(\"Error: Division by zero is not allowed.\")\n",
    "except ValueError:\n",
    "    print(\"Invalid input! Please enter a valid number.\")"
   ]
  },
  {
   "cell_type": "markdown",
   "id": "ded235c3",
   "metadata": {},
   "source": [
    "# question-3\n",
    "How can you create a custom exception class in Python? Provide an example that\n",
    "demonstrates its usage."
   ]
  },
  {
   "cell_type": "code",
   "execution_count": 12,
   "id": "156b822a",
   "metadata": {},
   "outputs": [
    {
     "name": "stdout",
     "output_type": "stream",
     "text": [
      "Error: Invalid age!\n"
     ]
    }
   ],
   "source": [
    "class CustomException(Exception):\n",
    "    pass\n",
    "\n",
    "def validate_age(age):\n",
    "    if age < 0 or age > 120:\n",
    "        raise CustomException(\"Invalid age!\")\n",
    "\n",
    "try:\n",
    "    validate_age(150)\n",
    "except CustomException as e:\n",
    "    print(f\"Error: {str(e)}\") "
   ]
  },
  {
   "cell_type": "markdown",
   "id": "e4422305",
   "metadata": {},
   "source": [
    "# question-4\n",
    "What are some common exceptions that are built-in to Python?"
   ]
  },
  {
   "cell_type": "markdown",
   "id": "f59c754f",
   "metadata": {},
   "source": [
    "Python provides several built-in exceptions that cover a wide range of error scenarios. Here are some commonly encountered built-in exceptions in Python:\n",
    "\n",
    "* SyntaxError: Raised when there is a syntax error in the code.\n",
    "* IndentationError: Raised when there is an indentation-related issue, such as incorrect or inconsistent indentation.\n",
    "* TypeError: Raised when an operation or function is applied to an object of an inappropriate type.\n",
    "* NameError: Raised when a local or global name is not found.\n",
    "* AttributeError: Raised when an attribute reference or assignment fails.\n",
    "* ValueError: Raised when a function receives an argument of the correct type but an inappropriate value.\n",
    "* KeyError: Raised when a dictionary key is not found.\n",
    "* IndexError: Raised when a sequence subscript is out of range.\n",
    "* FileNotFoundError: Raised when a file or directory is not found.\n",
    "* ZeroDivisionError: Raised when division or modulo operation is performed with zero as the divisor.\n",
    "* IOError: Raised when an input/output operation fails."
   ]
  },
  {
   "cell_type": "markdown",
   "id": "1837243a",
   "metadata": {},
   "source": [
    "# question-5\n",
    "What is logging in Python, and why is it important in software development?"
   ]
  },
  {
   "cell_type": "markdown",
   "id": "b3111e06",
   "metadata": {},
   "source": [
    "* Logging in Python is the process of recording and storing relevant information, messages, or events during program execution. \n",
    "\n",
    "* It is important in software development for debugging, troubleshooting, error reporting, monitoring, performance analysis,   auditing, compliance, and long-term maintenance. \n",
    "* Logging provides valuable insights, helps diagnose issues, and enhances the overall quality and reliability of software applications."
   ]
  },
  {
   "cell_type": "markdown",
   "id": "1fda3725",
   "metadata": {},
   "source": [
    "# question-6\n",
    "Explain the purpose of log levels in Python logging and provide examples of when\n",
    "each log level would be appropriate."
   ]
  },
  {
   "cell_type": "markdown",
   "id": "3a85932f",
   "metadata": {},
   "source": [
    "CRITICAL: The highest log level used for critical errors that may lead to application failure or significant issues. Examples: Unexpected exceptions, severe system failures, critical security breaches.\n",
    "\n",
    "ERROR: Used for logging errors that are not critical but still require attention. Examples: Failed operations, invalid inputs, recoverable errors.\n",
    "\n",
    "WARNING: Used for indicating potential issues or warnings that may not affect the program's functionality but should be addressed. Examples: Deprecated features, resource limitations, non-fatal errors.\n",
    "\n",
    "INFO: Used for general information messages that provide high-level details about the program's execution. Examples: Startup messages, configuration settings, significant milestones.\n",
    "\n",
    "DEBUG: Used for detailed information useful for debugging and troubleshooting during development. Examples: Variable values, function calls, detailed steps of program execution.\n",
    "\n",
    "NOTSET: The lowest log level that indicates no specific level is set. When used as the log level, it captures all messages regardless of their severity."
   ]
  },
  {
   "cell_type": "code",
   "execution_count": 13,
   "id": "5771ef44",
   "metadata": {},
   "outputs": [
    {
     "name": "stderr",
     "output_type": "stream",
     "text": [
      "DEBUG:root:This is a debug message\n",
      "INFO:root:This is an info message\n",
      "WARNING:root:This is a warning message\n",
      "ERROR:root:This is an error message\n",
      "CRITICAL:root:This is a critical message\n"
     ]
    }
   ],
   "source": [
    "import logging\n",
    "\n",
    "\n",
    "logging.basicConfig(level=logging.DEBUG)\n",
    "\n",
    "\n",
    "logging.debug(\"This is a debug message\")      \n",
    "logging.info(\"This is an info message\")      \n",
    "logging.warning(\"This is a warning message\")  \n",
    "logging.error(\"This is an error message\")     \n",
    "logging.critical(\"This is a critical message\") \n"
   ]
  },
  {
   "cell_type": "markdown",
   "id": "301bb698",
   "metadata": {},
   "source": [
    "# question-7\n",
    "What are log formatters in Python logging, and how can you customise the log\n",
    "message format using formatters?"
   ]
  },
  {
   "cell_type": "code",
   "execution_count": 14,
   "id": "e80759cd",
   "metadata": {},
   "outputs": [
    {
     "name": "stderr",
     "output_type": "stream",
     "text": [
      "2023-07-07 15:45:27,233 - INFO - This is an information message\n",
      "INFO:my_logger:This is an information message\n",
      "2023-07-07 15:45:27,241 - WARNING - This is a warning message\n",
      "WARNING:my_logger:This is a warning message\n"
     ]
    }
   ],
   "source": [
    "import logging\n",
    "\n",
    "# Create a formatter\n",
    "formatter = logging.Formatter('%(asctime)s - %(levelname)s - %(message)s')\n",
    "\n",
    "# Create a logger and set the formatter\n",
    "logger = logging.getLogger('my_logger')\n",
    "handler = logging.StreamHandler()\n",
    "handler.setFormatter(formatter)\n",
    "logger.addHandler(handler)\n",
    "\n",
    "# Log messages\n",
    "logger.info(\"This is an information message\")\n",
    "logger.warning(\"This is a warning message\")"
   ]
  },
  {
   "cell_type": "markdown",
   "id": "89b83d59",
   "metadata": {},
   "source": [
    "# question-8\n",
    "How can you set up logging to capture log messages from multiple modules or\n",
    "classes in a Python application?"
   ]
  },
  {
   "cell_type": "code",
   "execution_count": 21,
   "id": "7ed3a3c8",
   "metadata": {},
   "outputs": [
    {
     "ename": "ModuleNotFoundError",
     "evalue": "No module named 'module1'",
     "output_type": "error",
     "traceback": [
      "\u001b[1;31m---------------------------------------------------------------------------\u001b[0m",
      "\u001b[1;31mModuleNotFoundError\u001b[0m                       Traceback (most recent call last)",
      "Cell \u001b[1;32mIn[21], line 2\u001b[0m\n\u001b[0;32m      1\u001b[0m \u001b[38;5;28;01mimport\u001b[39;00m \u001b[38;5;21;01mlogging\u001b[39;00m\n\u001b[1;32m----> 2\u001b[0m \u001b[38;5;28;01mimport\u001b[39;00m \u001b[38;5;21;01mmodule1\u001b[39;00m\n\u001b[0;32m      3\u001b[0m \u001b[38;5;28;01mimport\u001b[39;00m \u001b[38;5;21;01mmodule2\u001b[39;00m\n\u001b[0;32m      5\u001b[0m \u001b[38;5;66;03m# Set up logging configuration\u001b[39;00m\n",
      "\u001b[1;31mModuleNotFoundError\u001b[0m: No module named 'module1'"
     ]
    }
   ],
   "source": [
    "import logging\n",
    "import module1\n",
    "import module2\n",
    "\n",
    "# Set up logging configuration\n",
    "logging.basicConfig(level=logging.DEBUG)\n",
    "\n",
    "# Log messages using the module-specific loggers\n",
    "module1.logger.debug(\"Debug message from Module 1\")\n",
    "module2.logger.info(\"Info message from Module 2\")\n",
    "\n",
    "\n",
    "logger = logging.getLogger('module1')\n",
    "logger.setLevel(logging.DEBUG)\n",
    "\n",
    "logger = logging.getLogger('module2')\n",
    "logger.setLevel(logging.INFO)"
   ]
  },
  {
   "cell_type": "markdown",
   "id": "cf84b73b",
   "metadata": {},
   "source": [
    "# question-9\n",
    "What is the difference between the logging and print statements in Python? When\n",
    "should you use logging over print statements in a real-world application?"
   ]
  },
  {
   "cell_type": "markdown",
   "id": "9c8f8a68",
   "metadata": {},
   "source": [
    "* Logging allows you to direct messages to different destinations, while print statements output messages to the standard output.\n",
    "* Logging provides flexibility, configurability, and granularity with log levels, handlers, formatters, and filters.\n",
    "* Logging is more suitable for long-term maintenance and production environments.\n",
    "* Use logging over print statements for debugging, troubleshooting, error reporting, and working with multiple modules or classes in real-world applications. Logging offers more control, flexibility, and scalability for managing and analyzing log messages."
   ]
  },
  {
   "cell_type": "markdown",
   "id": "6cbdd53a",
   "metadata": {},
   "source": [
    "# question-10\n",
    "10. Write a Python program that logs a message to a file named \"app.log\" with the\n",
    "following requirements:\n",
    "● The log message should be \"Hello, World!\"\n",
    "● The log level should be set to \"INFO.\"\n",
    "● The log file should append new log entries without overwriting previous ones."
   ]
  },
  {
   "cell_type": "code",
   "execution_count": 22,
   "id": "d8e73cef",
   "metadata": {},
   "outputs": [
    {
     "name": "stderr",
     "output_type": "stream",
     "text": [
      "INFO:root:Hello, World!\n"
     ]
    }
   ],
   "source": [
    "import logging\n",
    "\n",
    "logging.basicConfig(filename='app.log', level=logging.INFO, filemode='a')\n",
    "\n",
    "logging.info(\"Hello, World!\")"
   ]
  },
  {
   "cell_type": "markdown",
   "id": "e5d63be0",
   "metadata": {},
   "source": [
    "# question-11\n",
    "Create a Python program that logs an error message to the console and a file named\n",
    "\"errors.log\" if an exception occurs during the program's execution. The error\n",
    "message should include the exception type and a timestamp."
   ]
  },
  {
   "cell_type": "code",
   "execution_count": 23,
   "id": "e4c43667",
   "metadata": {},
   "outputs": [
    {
     "name": "stderr",
     "output_type": "stream",
     "text": [
      "ERROR:root:Exception: ZeroDivisionError, Timestamp: 2023-07-07 16:10:49.097912\n",
      "Exception: ZeroDivisionError, Timestamp: 2023-07-07 16:10:49.097912\n"
     ]
    }
   ],
   "source": [
    "import logging\n",
    "import datetime\n",
    "\n",
    "# Configure logging to a file and console\n",
    "logging.basicConfig(filename='errors.log', level=logging.ERROR, format='%(asctime)s - %(levelname)s - %(message)s')\n",
    "console_handler = logging.StreamHandler()\n",
    "console_handler.setLevel(logging.ERROR)\n",
    "logging.getLogger().addHandler(console_handler)\n",
    "\n",
    "try:\n",
    "    # Code that may raise an exception\n",
    "    result = 10 / 0  # Division by zero to generate an exception\n",
    "except Exception as e:\n",
    "    # Log the error message with exception type and timestamp\n",
    "    error_message = f\"Exception: {type(e).__name__}, Timestamp: {datetime.datetime.now()}\"\n",
    "    logging.error(error_message)"
   ]
  },
  {
   "cell_type": "code",
   "execution_count": null,
   "id": "79a5068c",
   "metadata": {},
   "outputs": [],
   "source": []
  }
 ],
 "metadata": {
  "kernelspec": {
   "display_name": "Python 3 (ipykernel)",
   "language": "python",
   "name": "python3"
  },
  "language_info": {
   "codemirror_mode": {
    "name": "ipython",
    "version": 3
   },
   "file_extension": ".py",
   "mimetype": "text/x-python",
   "name": "python",
   "nbconvert_exporter": "python",
   "pygments_lexer": "ipython3",
   "version": "3.10.9"
  }
 },
 "nbformat": 4,
 "nbformat_minor": 5
}
