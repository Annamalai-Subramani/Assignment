{
 "cells": [
  {
   "cell_type": "markdown",
   "id": "3b4ba0a0",
   "metadata": {},
   "source": [
    "# Assignment-  5\n",
    "# question-1"
   ]
  },
  {
   "cell_type": "code",
   "execution_count": 1,
   "id": "cb2b267b",
   "metadata": {},
   "outputs": [
    {
     "name": "stdout",
     "output_type": "stream",
     "text": [
      "{}\n",
      "<class 'dict'>\n"
     ]
    }
   ],
   "source": [
    "# 1. What does an empty dictionary's code look like?\n",
    "\n",
    "# An empty dictionary is represented by a pair of curly braces with nothing inside. \n",
    "\n",
    "dict1 = {}\n",
    "print(dict1)\n",
    "print(type(dict1))"
   ]
  },
  {
   "cell_type": "markdown",
   "id": "c1e84c5d",
   "metadata": {},
   "source": [
    "# question-2"
   ]
  },
  {
   "cell_type": "code",
   "execution_count": 3,
   "id": "8feaa6e4",
   "metadata": {},
   "outputs": [
    {
     "name": "stdout",
     "output_type": "stream",
     "text": [
      "42\n"
     ]
    }
   ],
   "source": [
    "# What is the value of a dictionary value with the key foo and the value 42?\n",
    "\n",
    "my_dicti = {'foo': 42}\n",
    "value = my_dicti['foo']\n",
    "print(value)"
   ]
  },
  {
   "cell_type": "markdown",
   "id": "1bf8373c",
   "metadata": {},
   "source": [
    "# question-3"
   ]
  },
  {
   "cell_type": "markdown",
   "id": "b8480e8f",
   "metadata": {},
   "source": [
    "What is the most significant distinction between a dictionary and a list?\n",
    "\n",
    "The most significant distinction between a dictionary and a list is that a dictionary stores data as key-value pairs and allows access based on unique keys, while a list stores data as an ordered collection and allows access based on integer indices.\n",
    "Overall, dictionaries are suitable for storing and retrieving data based on unique keys, while lists are useful for maintaining an ordered collection of elements accessible by integer indices.\n",
    "\n",
    "Example: my_list = [1, 2, 3, 4, 5]\n",
    "\n",
    "Example: my_dict = {'fruit1': 'apple', 'fruit2': 'banana', 'fruit3': 'orange'}\n",
    "\n",
    "\n"
   ]
  },
  {
   "cell_type": "markdown",
   "id": "78e14582",
   "metadata": {},
   "source": [
    "# question-4"
   ]
  },
  {
   "cell_type": "code",
   "execution_count": 2,
   "id": "e4284c14",
   "metadata": {},
   "outputs": [
    {
     "ename": "KeyError",
     "evalue": "'foo'",
     "output_type": "error",
     "traceback": [
      "\u001b[1;31m---------------------------------------------------------------------------\u001b[0m",
      "\u001b[1;31mKeyError\u001b[0m                                  Traceback (most recent call last)",
      "Cell \u001b[1;32mIn[2], line 4\u001b[0m\n\u001b[0;32m      1\u001b[0m \u001b[38;5;66;03m# What happens if you try to access spam [foo] if spam is {bar: 100}?\u001b[39;00m\n\u001b[0;32m      3\u001b[0m spam \u001b[38;5;241m=\u001b[39m { \u001b[38;5;124m'\u001b[39m\u001b[38;5;124mbar\u001b[39m\u001b[38;5;124m'\u001b[39m: \u001b[38;5;241m100\u001b[39m }\n\u001b[1;32m----> 4\u001b[0m value \u001b[38;5;241m=\u001b[39m \u001b[43mspam\u001b[49m\u001b[43m[\u001b[49m\u001b[38;5;124;43m'\u001b[39;49m\u001b[38;5;124;43mfoo\u001b[39;49m\u001b[38;5;124;43m'\u001b[39;49m\u001b[43m]\u001b[49m\n\u001b[0;32m      5\u001b[0m \u001b[38;5;28mprint\u001b[39m(value)\n",
      "\u001b[1;31mKeyError\u001b[0m: 'foo'"
     ]
    }
   ],
   "source": [
    "# What happens if you try to access spam [foo] if spam is {bar: 100}?\n",
    "\n",
    "spam = { 'bar': 100 }\n",
    "value = spam['foo']\n",
    "print(value) # it's shows an key error"
   ]
  },
  {
   "cell_type": "markdown",
   "id": "48a38ee2",
   "metadata": {},
   "source": [
    "# question-5"
   ]
  },
  {
   "cell_type": "markdown",
   "id": "50549d8d",
   "metadata": {},
   "source": [
    "If a dictionary is stored in spam, what is the difference between the expressions 'cat'in spam and 'cat' in spam.keys()?\n",
    "\n",
    "\n",
    "The expressions 'cat' in spam and 'cat' in spam.keys() will give the same result, which is True, if the key 'cat' exists in the dictionary spam."
   ]
  },
  {
   "cell_type": "code",
   "execution_count": 4,
   "id": "c75ffe5e",
   "metadata": {},
   "outputs": [
    {
     "name": "stdout",
     "output_type": "stream",
     "text": [
      "True\n",
      "True\n"
     ]
    }
   ],
   "source": [
    "spam = {'cat': 'meow', 'dog': 'woof', 'bird': 'tweet'}\n",
    "\n",
    "print('cat' in spam)\n",
    "print('cat' in spam.keys())"
   ]
  },
  {
   "cell_type": "markdown",
   "id": "c65f81b5",
   "metadata": {},
   "source": [
    "# question-6"
   ]
  },
  {
   "cell_type": "markdown",
   "id": "ce87d477",
   "metadata": {},
   "source": [
    "If a dictionary is stored in spam, what is the difference between the expressions 'cat' in spam and\n",
    "'cat' in spam.values()?\n",
    "\n",
    "The expression 'cat' in spam checks if the value 'cat' exists as a key in the dictionary spam.\n",
    "\n",
    "The expression 'cat' in spam.values() checks if the value 'cat' exists as a value in the dictionary spam."
   ]
  },
  {
   "cell_type": "code",
   "execution_count": 5,
   "id": "fde7b7ac",
   "metadata": {},
   "outputs": [
    {
     "name": "stdout",
     "output_type": "stream",
     "text": [
      "False\n",
      "True\n"
     ]
    }
   ],
   "source": [
    "spam = {'animal': 'cat', 'sound': 'meow', 'color': 'black'}\n",
    "print('cat' in spam)\n",
    "print('cat' in spam.values())"
   ]
  },
  {
   "cell_type": "markdown",
   "id": "1bfe674a",
   "metadata": {},
   "source": [
    "# question-7"
   ]
  },
  {
   "cell_type": "markdown",
   "id": "2dd426fd",
   "metadata": {},
   "source": [
    "What is a shortcut for the following code?\n",
    "if color not in spam:\n",
    "spam['color'] = 'black'"
   ]
  },
  {
   "cell_type": "code",
   "execution_count": 6,
   "id": "fb7ac22f",
   "metadata": {},
   "outputs": [
    {
     "data": {
      "text/plain": [
       "'black'"
      ]
     },
     "execution_count": 6,
     "metadata": {},
     "output_type": "execute_result"
    }
   ],
   "source": [
    "spam.setdefault('color', 'black')\n",
    "\n",
    "#If the key is not found, it adds the key-value pair to the dictionary with the default value provided."
   ]
  },
  {
   "cell_type": "markdown",
   "id": "63776cdd",
   "metadata": {},
   "source": [
    "# question-8"
   ]
  },
  {
   "cell_type": "code",
   "execution_count": 9,
   "id": "78a579e1",
   "metadata": {},
   "outputs": [
    {
     "name": "stdout",
     "output_type": "stream",
     "text": [
      "{'age': 25, 'city': 'chennai', 'name': 'Annamalai'}\n"
     ]
    }
   ],
   "source": [
    "# How do you 'pretty print' dictionary values using which module and function?\n",
    "\n",
    "import pprint\n",
    "\n",
    "dict1 = {'name': 'Annamalai', 'age': 25, 'city': 'chennai'}\n",
    "\n",
    "pprint.pprint(dict1)\n",
    "\n",
    "# it provides key and value pairs in dictionery, it makes easier to read"
   ]
  },
  {
   "cell_type": "code",
   "execution_count": null,
   "id": "1ccb3918",
   "metadata": {},
   "outputs": [],
   "source": []
  }
 ],
 "metadata": {
  "kernelspec": {
   "display_name": "Python 3 (ipykernel)",
   "language": "python",
   "name": "python3"
  },
  "language_info": {
   "codemirror_mode": {
    "name": "ipython",
    "version": 3
   },
   "file_extension": ".py",
   "mimetype": "text/x-python",
   "name": "python",
   "nbconvert_exporter": "python",
   "pygments_lexer": "ipython3",
   "version": "3.10.9"
  }
 },
 "nbformat": 4,
 "nbformat_minor": 5
}
