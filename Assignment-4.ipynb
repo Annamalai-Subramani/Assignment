{
 "cells": [
  {
   "cell_type": "markdown",
   "id": "cae9c1be",
   "metadata": {},
   "source": [
    "# Assignment-4\n",
    "# question-1"
   ]
  },
  {
   "cell_type": "markdown",
   "id": "d1c7b385",
   "metadata": {},
   "source": [
    "1 What exactly is [] ?\n",
    "\n",
    "Square brackets are used to define lists. Lists are ordered collections of items, enclosed in square brackets, and separated by commas.\n",
    "\n",
    "list = [1, 2, 3, 4]\n"
   ]
  },
  {
   "cell_type": "markdown",
   "id": "7fc5f833",
   "metadata": {},
   "source": [
    "# question-2"
   ]
  },
  {
   "cell_type": "code",
   "execution_count": 1,
   "id": "e0d02443",
   "metadata": {},
   "outputs": [
    {
     "data": {
      "text/plain": [
       "[2, 4, 'hello', 8, 10]"
      ]
     },
     "execution_count": 1,
     "metadata": {},
     "output_type": "execute_result"
    }
   ],
   "source": [
    "# 2. In a list of values stored in a variable called spam, how would you assign the value 'hello' as the\n",
    "#  third value? (Assume [2, 4, 6, 8, 10] are in spam.)\n",
    "\n",
    "spam = [2, 4, 6, 8, 10]\n",
    "spam[2] = 'hello'\n",
    "spam"
   ]
  },
  {
   "cell_type": "markdown",
   "id": "142a2d1a",
   "metadata": {},
   "source": [
    "# question-3"
   ]
  },
  {
   "cell_type": "code",
   "execution_count": 4,
   "id": "6d7a0320",
   "metadata": {},
   "outputs": [
    {
     "data": {
      "text/plain": [
       "'d'"
      ]
     },
     "execution_count": 4,
     "metadata": {},
     "output_type": "execute_result"
    }
   ],
   "source": [
    " # What is the value of spam[int(int('3' * 2) / 11)]?\n",
    "    \n",
    "spam = ['a', 'b', 'c', 'd']\n",
    "\n",
    "spam[int(int('3' * 2) / 11)] # answer is 3 so index start from 0 and the output is d"
   ]
  },
  {
   "cell_type": "markdown",
   "id": "1b86c68f",
   "metadata": {},
   "source": [
    "# question-4"
   ]
  },
  {
   "cell_type": "code",
   "execution_count": 5,
   "id": "bf88288c",
   "metadata": {},
   "outputs": [
    {
     "data": {
      "text/plain": [
       "'d'"
      ]
     },
     "execution_count": 5,
     "metadata": {},
     "output_type": "execute_result"
    }
   ],
   "source": [
    "# What is the value of spam[-1]?\n",
    "\n",
    "spam = ['a', 'b', 'c', 'd']\n",
    "spam[-1]\n",
    " "
   ]
  },
  {
   "cell_type": "markdown",
   "id": "dcc9aded",
   "metadata": {},
   "source": [
    "# question-5"
   ]
  },
  {
   "cell_type": "code",
   "execution_count": 6,
   "id": "157ad795",
   "metadata": {},
   "outputs": [
    {
     "data": {
      "text/plain": [
       "['a', 'b']"
      ]
     },
     "execution_count": 6,
     "metadata": {},
     "output_type": "execute_result"
    }
   ],
   "source": [
    "# What is the value of spam[:2]?\n",
    "\n",
    "spam = ['a', 'b', 'c', 'd']\n",
    "spam[:2]\n"
   ]
  },
  {
   "cell_type": "markdown",
   "id": "111bf871",
   "metadata": {},
   "source": [
    "# question-6"
   ]
  },
  {
   "cell_type": "code",
   "execution_count": 7,
   "id": "ccb7c79f",
   "metadata": {},
   "outputs": [
    {
     "data": {
      "text/plain": [
       "1"
      ]
     },
     "execution_count": 7,
     "metadata": {},
     "output_type": "execute_result"
    }
   ],
   "source": [
    "# What is the value of bacon.index('cat')?\n",
    "\n",
    "bacon = [3.14, 'cat', 11, 'cat', True]\n",
    "\n",
    "bacon.index('cat')\n",
    "\n"
   ]
  },
  {
   "cell_type": "markdown",
   "id": "b3e6bc32",
   "metadata": {},
   "source": [
    "# question-7"
   ]
  },
  {
   "cell_type": "code",
   "execution_count": 9,
   "id": "7c33944c",
   "metadata": {},
   "outputs": [
    {
     "data": {
      "text/plain": [
       "[3.14, 'cat', 11, 'cat', True, 99]"
      ]
     },
     "execution_count": 9,
     "metadata": {},
     "output_type": "execute_result"
    }
   ],
   "source": [
    "# How does bacon.append(99) change the look of the list value in bacon?\n",
    "\n",
    "bacon = [3.14, 'cat', 11, 'cat', True]\n",
    "bacon.append(99) # add 1 elemnt\n",
    "bacon # the list contain 6 element"
   ]
  },
  {
   "cell_type": "markdown",
   "id": "068825f8",
   "metadata": {},
   "source": [
    "# question-8"
   ]
  },
  {
   "cell_type": "code",
   "execution_count": 10,
   "id": "5bcc3241",
   "metadata": {},
   "outputs": [
    {
     "data": {
      "text/plain": [
       "[3.14, 11, 'cat', True]"
      ]
     },
     "execution_count": 10,
     "metadata": {},
     "output_type": "execute_result"
    }
   ],
   "source": [
    "# How does bacon.remove('cat') change the look of the list in bacon?\n",
    "\n",
    "bacon = [3.14, 'cat', 11, 'cat', True]\n",
    "bacon.remove('cat') # remove 1 element\n",
    "bacon # the lsit contain 4 element\n",
    "\n"
   ]
  },
  {
   "cell_type": "markdown",
   "id": "ea28bfaa",
   "metadata": {},
   "source": [
    "# question-9"
   ]
  },
  {
   "cell_type": "markdown",
   "id": "dcfb67f6",
   "metadata": {},
   "source": [
    "List Concatenation Operator (+):\n",
    "The list concatenation operator (+) allows you to combine two or more lists into a single list. \n",
    "\n",
    "List Replication Operator ():\n",
    "The list replication operator () allows you to create a new list by replicating the elements of an existing list a certain number of times."
   ]
  },
  {
   "cell_type": "code",
   "execution_count": 12,
   "id": "149eef87",
   "metadata": {},
   "outputs": [
    {
     "name": "stdout",
     "output_type": "stream",
     "text": [
      "[1, 2, 3, 4, 5, 6]\n",
      "[1, 2, 3, 1, 2, 3, 1, 2, 3]\n"
     ]
    }
   ],
   "source": [
    "# example for concatination list\n",
    "\n",
    "list1 = [1, 2, 3]\n",
    "list2 = [4, 5, 6]\n",
    "result = list1 + list2\n",
    "print(result)\n",
    "\n",
    "# example for replication list\n",
    "\n",
    "list1 = [1, 2, 3]\n",
    "result = list1 * 3\n",
    "print(result)"
   ]
  },
  {
   "cell_type": "markdown",
   "id": "1d95599f",
   "metadata": {},
   "source": [
    "# question-10"
   ]
  },
  {
   "cell_type": "markdown",
   "id": "b154a7f0",
   "metadata": {},
   "source": [
    "What is difference between the list methods append() and insert()?\n",
    "\n",
    "1 append() method adds an element to the end of a list\n",
    "\n",
    "\n",
    "2 insert() method allows you to specify the position where the element should be inserted in the list.\n",
    "\n"
   ]
  },
  {
   "cell_type": "code",
   "execution_count": 15,
   "id": "bdf89706",
   "metadata": {},
   "outputs": [
    {
     "name": "stdout",
     "output_type": "stream",
     "text": [
      "[1, 2, 3, 4]\n",
      "[1, 2, 7, 3]\n"
     ]
    }
   ],
   "source": [
    "# example:\n",
    "\n",
    "list1 = [1, 2, 3] # append\n",
    "list1.append(4)\n",
    "print(list1)\n",
    "\n",
    "list1 = [1, 2, 3] # insert\n",
    "list1.insert(2,7)\n",
    "print(list1)"
   ]
  },
  {
   "cell_type": "markdown",
   "id": "60c7338c",
   "metadata": {},
   "source": [
    "# question-11"
   ]
  },
  {
   "cell_type": "markdown",
   "id": "da9e4e28",
   "metadata": {},
   "source": [
    "What are the two methods for removing items from a list?\n",
    "\n",
    "1 The remove() method is used to remove the first occurrence of a specified value from the list.\n",
    "\n",
    "2  The pop() method is used to remove an element from a specific index in the list."
   ]
  },
  {
   "cell_type": "code",
   "execution_count": 16,
   "id": "88d92c7f",
   "metadata": {},
   "outputs": [
    {
     "name": "stdout",
     "output_type": "stream",
     "text": [
      "[1, 2]\n",
      "[1, 3]\n"
     ]
    }
   ],
   "source": [
    "# example\n",
    "list1 = [1, 2, 3] # remove\n",
    "list1.remove(3)\n",
    "print(list1)\n",
    "\n",
    "\n",
    "list1 = [1, 2, 3] # pop\n",
    "list1.pop(1)\n",
    "print(list1)"
   ]
  },
  {
   "cell_type": "markdown",
   "id": "abe3110f",
   "metadata": {},
   "source": [
    "# question-12"
   ]
  },
  {
   "cell_type": "markdown",
   "id": "c70d2180",
   "metadata": {},
   "source": [
    "Describe how list values and string values are identical.\n",
    "\n",
    "\n",
    "Sequential Data: Both lists and strings are sequential data types. They can contain multiple elements that are ordered and accessible using indexing.\n",
    "\n",
    "Indexing and Slicing: Both lists and strings support indexing and slicing operations. You can access individual elements or extract a subset of elements by specifying the index or a range of indices.\n",
    "\n",
    "Immutable Elements: In both lists and strings, the individual elements can be immutable. For example, in a string, each character is immutable, and in a list, the elements themselves can be immutable objects.\n",
    "\n",
    "Iteration: Both lists and strings can be iterated over using loops or other iterable methods. This allows you to traverse the elements and perform operations on each item.\n",
    "\n",
    "Length: Both lists and strings have a length that represents the number of elements they contain. The len() function can be used to determine the length of both lists and strings.\n",
    "\n",
    "However, there are also significant differences between lists and strings:\n",
    "\n",
    "Mutability: Lists are mutable, meaning that you can change, add, or remove elements from them. In contrast, strings are immutable, and individual characters cannot be modified. Instead, you need to create a new string if you want to make changes.\n",
    "\n",
    "Type of Elements: Lists can contain elements of different data types, allowing for a mixture of numbers, strings, booleans, and other objects. Strings, on the other hand, are specifically designed to store sequences of characters.\n",
    "\n",
    "Representation: Lists are represented by enclosing elements in square brackets [] and separating them with commas. Strings are represented by enclosing characters in either single quotes ' ' or double quotes \" \"."
   ]
  },
  {
   "cell_type": "markdown",
   "id": "5523da78",
   "metadata": {},
   "source": [
    "# question-13"
   ]
  },
  {
   "cell_type": "markdown",
   "id": "37b3dab3",
   "metadata": {},
   "source": [
    "What is the difference between tuples and lists?\n",
    "\n",
    "Mutability: Lists are mutable, meaning their elements can be modified, added, or removed, while tuples are immutable, and their elements cannot be changed once created.\n",
    "\n",
    "Syntax: Lists are represented with square brackets [], while tuples use parentheses (), although they can also be created without parentheses.\n",
    "\n",
    "Usage: Lists are typically used for dynamic collections where elements can be modified, while tuples are used for fixed collections of related values that should remain unchanged.\n",
    "\n",
    "Performance: Tuples generally have a slight performance advantage due to their immutability, but the difference is usually minimal."
   ]
  },
  {
   "cell_type": "markdown",
   "id": "f9ed4723",
   "metadata": {},
   "source": [
    "# question-14"
   ]
  },
  {
   "cell_type": "code",
   "execution_count": 19,
   "id": "12c57a97",
   "metadata": {},
   "outputs": [
    {
     "name": "stdout",
     "output_type": "stream",
     "text": [
      "<class 'tuple'>\n",
      "(42,)\n"
     ]
    }
   ],
   "source": [
    "# How do you type a tuple value that only contains the integer 42?\n",
    "\n",
    "my_tuple = (42,)\n",
    "print(type(my_tuple))  \n",
    "print(my_tuple) "
   ]
  },
  {
   "cell_type": "markdown",
   "id": "b375e70c",
   "metadata": {},
   "source": [
    "# question-15"
   ]
  },
  {
   "cell_type": "code",
   "execution_count": 23,
   "id": "456a96d9",
   "metadata": {},
   "outputs": [
    {
     "name": "stdout",
     "output_type": "stream",
     "text": [
      "(1, 2, 3, 4)\n",
      "<class 'tuple'>\n",
      "[1, 2, 3, 4]\n",
      "<class 'list'>\n"
     ]
    }
   ],
   "source": [
    "# How do you get a list values tuple form? How do you get a tuple values list form?\n",
    "\n",
    "my_list = [1, 2, 3, 4] # list to tuple\n",
    "my_tuple = tuple(my_list)\n",
    "print(my_tuple)\n",
    "print(type(my_tuple)) \n",
    "\n",
    "my_tuple = (1, 2, 3, 4) # tuple to list\n",
    "my_list = list(my_tuple)\n",
    "print(my_list)\n",
    "print(type(my_list))"
   ]
  },
  {
   "cell_type": "markdown",
   "id": "3a5fb8cd",
   "metadata": {},
   "source": [
    "# question-16"
   ]
  },
  {
   "cell_type": "markdown",
   "id": "ed8cfe84",
   "metadata": {},
   "source": [
    "Variables that contain list values are not necessarily lists themselves. Instead, what do they contain?\n",
    "\n",
    "Variables that \"contain\" list values in Python do not actually store the list itself. Instead, they store a reference to the list object. In Python, lists are objects, and variables act as references or pointers to these objects.\n",
    "\n",
    "variables are store as references and list are store as objects."
   ]
  },
  {
   "cell_type": "markdown",
   "id": "177303e5",
   "metadata": {},
   "source": [
    "# question-17"
   ]
  },
  {
   "cell_type": "markdown",
   "id": "bea5e51f",
   "metadata": {},
   "source": [
    "How do you distinguish between copy.copy() and copy.deepcopy()?\n",
    "\n",
    "\n",
    "copy.copy() creates a shallow copy of an object, preserving references to nested objects.\n",
    "\n",
    "Any change in tha shallow copy will make change in orginal data \n",
    "\n",
    "\n",
    "copy.deepcopy() creates a deep copy of an object, recursively copying nested objects to create independent copies.\n",
    "\n",
    "deep copy will not make changes in orginal data."
   ]
  },
  {
   "cell_type": "code",
   "execution_count": null,
   "id": "155c940c",
   "metadata": {},
   "outputs": [],
   "source": []
  }
 ],
 "metadata": {
  "kernelspec": {
   "display_name": "Python 3 (ipykernel)",
   "language": "python",
   "name": "python3"
  },
  "language_info": {
   "codemirror_mode": {
    "name": "ipython",
    "version": 3
   },
   "file_extension": ".py",
   "mimetype": "text/x-python",
   "name": "python",
   "nbconvert_exporter": "python",
   "pygments_lexer": "ipython3",
   "version": "3.10.9"
  }
 },
 "nbformat": 4,
 "nbformat_minor": 5
}
