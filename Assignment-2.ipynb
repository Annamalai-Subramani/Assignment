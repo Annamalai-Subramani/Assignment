{
 "cells": [
  {
   "cell_type": "markdown",
   "id": "7c4676a2",
   "metadata": {},
   "source": [
    "# Assignment - 2"
   ]
  },
  {
   "cell_type": "markdown",
   "id": "357c5e09",
   "metadata": {},
   "source": [
    "# question-1"
   ]
  },
  {
   "cell_type": "markdown",
   "id": "3ed0cd60",
   "metadata": {},
   "source": [
    "What are the two values of the Boolean data type? How do you write them?\n",
    "\n",
    "The boolean data type represent two values\n",
    "\n",
    "1  True\n",
    "2  False\n",
    "\n",
    "\n",
    "x = True\n",
    "y = False"
   ]
  },
  {
   "cell_type": "code",
   "execution_count": 1,
   "id": "f0236918",
   "metadata": {},
   "outputs": [
    {
     "data": {
      "text/plain": [
       "True"
      ]
     },
     "execution_count": 1,
     "metadata": {},
     "output_type": "execute_result"
    }
   ],
   "source": [
    "1 == 1"
   ]
  },
  {
   "cell_type": "code",
   "execution_count": 2,
   "id": "26e2a302",
   "metadata": {},
   "outputs": [
    {
     "data": {
      "text/plain": [
       "False"
      ]
     },
     "execution_count": 2,
     "metadata": {},
     "output_type": "execute_result"
    }
   ],
   "source": [
    "1 == 2"
   ]
  },
  {
   "cell_type": "markdown",
   "id": "94c8f43e",
   "metadata": {},
   "source": [
    "# question-2"
   ]
  },
  {
   "cell_type": "markdown",
   "id": "6896a1f2",
   "metadata": {},
   "source": [
    "What are the three different types of Boolean operators?\n",
    "\n",
    "The 3 different types of boolean operator are\n",
    "\n",
    "1  And\n",
    "2  Or\n",
    "3  Not\n",
    "\n",
    "And:\n",
    "   \n",
    "   if both operands are true. Otherwise, it returns false.\n",
    "   \n",
    "  \n",
    "\n",
    "   \n",
    "Or:\n",
    "  if at least one of the operands is true. It returns false only if both operands are false.\n",
    "  \n",
    "   \n",
    "  \n",
    "\n",
    "Not:\n",
    "   If the operand is true, it returns false, and if the operand is false, it returns true.\n",
    "   \n",
    "   \n"
   ]
  },
  {
   "cell_type": "markdown",
   "id": "0a1badb8",
   "metadata": {},
   "source": [
    "# question-3"
   ]
  },
  {
   "cell_type": "code",
   "execution_count": 17,
   "id": "9f399ad3",
   "metadata": {},
   "outputs": [
    {
     "name": "stdout",
     "output_type": "stream",
     "text": [
      "True\n",
      "False\n",
      "False\n",
      "False\n",
      "\n",
      "\n",
      "True\n",
      "True\n",
      "True\n",
      "False\n",
      "\n",
      "\n",
      "False\n"
     ]
    },
    {
     "data": {
      "text/plain": [
       "True"
      ]
     },
     "execution_count": 17,
     "metadata": {},
     "output_type": "execute_result"
    }
   ],
   "source": [
    "# Make a list of each Boolean operator&#39;s truth tables (i.e. every possible combination of Boolean\n",
    " # values for the operator and what it evaluate ).\n",
    "\n",
    "# AND \n",
    "\n",
    "print(True & True)\n",
    "print(True & False)\n",
    "print(False & True)\n",
    "print(False & False)\n",
    "\n",
    "print('\\n')\n",
    "\n",
    "# OR\n",
    "print(True | True)\n",
    "print(True | False)\n",
    "print(False | True)\n",
    "print(False | False)\n",
    "\n",
    "print('\\n')\n",
    "\n",
    "# Not\n",
    "\n",
    "print(not True)\n",
    "not False\n",
    "\n",
    "\n",
    "\n",
    "\n",
    "\n"
   ]
  },
  {
   "cell_type": "markdown",
   "id": "209768d2",
   "metadata": {},
   "source": [
    "# question-4"
   ]
  },
  {
   "cell_type": "code",
   "execution_count": 18,
   "id": "f77d3165",
   "metadata": {},
   "outputs": [
    {
     "name": "stdout",
     "output_type": "stream",
     "text": [
      "False\n",
      "False\n",
      "True\n",
      "False\n"
     ]
    }
   ],
   "source": [
    "print((5 > 4) and (3 == 5))\n",
    "print(not (5 > 4))\n",
    "print((5 > 4) or (3 == 5))\n",
    "print(not ((5 > 4) or (3 == 5)))"
   ]
  },
  {
   "cell_type": "markdown",
   "id": "d8dc1c5d",
   "metadata": {},
   "source": [
    "# question-5"
   ]
  },
  {
   "cell_type": "markdown",
   "id": "63d1672a",
   "metadata": {},
   "source": [
    "What are the six comparison operators?\n",
    "\n",
    "Equal to (==): This operator checks if two values are equal and returns true otherwise false\n",
    "Ex:(5==5)\n",
    "\n",
    "This operator checks if two values are not equal and returns true if they are not, and false if they are equal.\n",
    " Ex:(5!=3)\n",
    " \n",
    "Greater than (>): This operator checks if the left operand is greater than the right operand and returns true if it is, and false otherwise.\n",
    "Ex: (5>3)\n",
    "\n",
    "Less than (<): This operator checks if the left operand is less than the right operand and returns true if it is, and false otherwise.\n",
    "Ex: ( 3 < 5)\n",
    "\n",
    "Greater than or equal to (>=): This operator checks if the left operand is greater than or equal to the right operand and returns true if it is, and false otherwise.\n",
    "Ex: (5 >= 3)\n",
    "\n",
    "Less than or equal to (<=): This operator checks if the left operand is less than or equal to the right operand and returns true if it is, and false otherwise.\n",
    "Ex: (3 <= 5)"
   ]
  },
  {
   "cell_type": "markdown",
   "id": "3ce1304a",
   "metadata": {},
   "source": [
    "# question-6"
   ]
  },
  {
   "cell_type": "markdown",
   "id": "37697271",
   "metadata": {},
   "source": [
    "How do you tell the difference between the equal to and assignment operators?Describe a\n",
    "condition and when you would use one.\n",
    "\n",
    "equal operator(==) - In these operator it compare the two value.\n",
    "\n",
    "ex: x == y compares the values of x and y and returns true if they are equal and false otherwise.\n",
    "\n",
    "assignment operator(=) - It assign the values to the variable.\n",
    "\n",
    "ex:  x = 5 assigns the value 5 to the variable x."
   ]
  },
  {
   "cell_type": "markdown",
   "id": "ac1cc1e2",
   "metadata": {},
   "source": [
    "# question-7"
   ]
  },
  {
   "cell_type": "code",
   "execution_count": 2,
   "id": "13037f6e",
   "metadata": {},
   "outputs": [
    {
     "name": "stdout",
     "output_type": "stream",
     "text": [
      "ham\n",
      "spam\n",
      "spam\n"
     ]
    }
   ],
   "source": [
    "spam = 0\n",
    "if spam == 10: # block-1\n",
    "    print('eggs')\n",
    "if spam > 5:    # block-2\n",
    "    print('bacon')\n",
    "else:\n",
    "    print('ham')\n",
    "print('spam') #block-3\n",
    "print('spam')"
   ]
  },
  {
   "cell_type": "markdown",
   "id": "29d1c500",
   "metadata": {},
   "source": [
    "# question-8"
   ]
  },
  {
   "cell_type": "code",
   "execution_count": 3,
   "id": "12009a0e",
   "metadata": {},
   "outputs": [
    {
     "name": "stdout",
     "output_type": "stream",
     "text": [
      "Greetings!\n"
     ]
    }
   ],
   "source": [
    "spam = 3\n",
    "\n",
    "if spam == 1:\n",
    "    print('Hello')\n",
    "elif spam == 2:\n",
    "    print('Howdy')\n",
    "else:\n",
    "    print('Greetings!')"
   ]
  },
  {
   "cell_type": "markdown",
   "id": "6aebc0d0",
   "metadata": {},
   "source": [
    "# question-9"
   ]
  },
  {
   "cell_type": "markdown",
   "id": "3d85100a",
   "metadata": {},
   "source": [
    "If your programme is stuck in an endless loop, what keys you’ll press?\n",
    "\n",
    "Ctrl + C - This key combination is commonly used to send an interrupt signal to the running program.\n",
    "\n",
    "Ctrl + Break - On some systems, such as Windows Command Prompt, pressing Ctrl + Break can also be used to break out of an infinite loop or stop the program's execution.\n",
    "\n",
    "*Ctrl + * - This key combination can be used as a universal way to generate an interrupt signal and terminate the program. It works on Unix-like systems."
   ]
  },
  {
   "cell_type": "markdown",
   "id": "60e219cc",
   "metadata": {},
   "source": [
    "# question-10"
   ]
  },
  {
   "cell_type": "markdown",
   "id": "a75308c3",
   "metadata": {},
   "source": [
    "How can you tell the difference between break and continue?\n",
    "\n",
    "break and continue are two control flow statements in programming that are used to alter the flow of execution within loops.\n",
    "\n",
    "\n",
    "Break - After the break it will be exit the loop.It allows you to skip the remaining iterations of the loop and move on to the next part of the program.\n",
    "\n",
    "continue - it will execute after continue untill the loop ends.The continue statement is used to skip the current iteration of a loop and proceed to the next iteration. "
   ]
  },
  {
   "cell_type": "markdown",
   "id": "e8c4f678",
   "metadata": {},
   "source": [
    "# question-11"
   ]
  },
  {
   "cell_type": "code",
   "execution_count": 6,
   "id": "71762fa1",
   "metadata": {},
   "outputs": [
    {
     "name": "stdout",
     "output_type": "stream",
     "text": [
      "0\n",
      "1\n",
      "2\n",
      "3\n",
      "4\n",
      "5\n",
      "6\n",
      "7\n",
      "8\n",
      "9\n",
      "\n",
      "\n",
      "0\n",
      "1\n",
      "2\n",
      "3\n",
      "4\n",
      "5\n",
      "6\n",
      "7\n",
      "8\n",
      "9\n",
      "\n",
      "\n",
      "0\n",
      "1\n",
      "2\n",
      "3\n",
      "4\n",
      "5\n",
      "6\n",
      "7\n",
      "8\n",
      "9\n"
     ]
    }
   ],
   "source": [
    "# all three forms range(10), range(0, 10), and range(0, 10, 1) produce the same sequence of numbers from 0 to 9. \n",
    "\n",
    "for i in range(10):  # it generate default start value from 0\n",
    "    print(i)\n",
    "print('\\n')    \n",
    "    \n",
    "for i in range(0,10): # we assign the start and end value\n",
    "    print(i)\n",
    "print('\\n')     \n",
    "    \n",
    "for i in range(0,10,1):  #we assign the start ,end value, step value\n",
    "    print(i)"
   ]
  },
  {
   "cell_type": "markdown",
   "id": "193b7e7d",
   "metadata": {},
   "source": [
    "# question-12"
   ]
  },
  {
   "cell_type": "code",
   "execution_count": 7,
   "id": "713f5178",
   "metadata": {},
   "outputs": [
    {
     "name": "stdout",
     "output_type": "stream",
     "text": [
      "1\n",
      "2\n",
      "3\n",
      "4\n",
      "5\n",
      "6\n",
      "7\n",
      "8\n",
      "9\n",
      "10\n",
      "\n",
      "\n",
      "1\n",
      "2\n",
      "3\n",
      "4\n",
      "5\n",
      "6\n",
      "7\n",
      "8\n",
      "9\n",
      "10\n"
     ]
    }
   ],
   "source": [
    "for i in range(1, 11):\n",
    "    print(i)\n",
    "    \n",
    "print('\\n')\n",
    "\n",
    "i = 1\n",
    "\n",
    "while i <= 10:\n",
    "    print(i)\n",
    "    i += 1"
   ]
  },
  {
   "cell_type": "markdown",
   "id": "843561f2",
   "metadata": {},
   "source": [
    "# question-13"
   ]
  },
  {
   "cell_type": "code",
   "execution_count": null,
   "id": "b0c1a613",
   "metadata": {},
   "outputs": [],
   "source": [
    "#If you had a function named bacon() inside a module named spam, how would you call it after importing spam?\n",
    "\n",
    "\n",
    "import spam\n",
    "\n",
    "spam.bacon()\n"
   ]
  }
 ],
 "metadata": {
  "kernelspec": {
   "display_name": "Python 3 (ipykernel)",
   "language": "python",
   "name": "python3"
  },
  "language_info": {
   "codemirror_mode": {
    "name": "ipython",
    "version": 3
   },
   "file_extension": ".py",
   "mimetype": "text/x-python",
   "name": "python",
   "nbconvert_exporter": "python",
   "pygments_lexer": "ipython3",
   "version": "3.10.9"
  }
 },
 "nbformat": 4,
 "nbformat_minor": 5
}
